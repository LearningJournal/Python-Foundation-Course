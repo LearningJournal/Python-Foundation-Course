{
 "cells": [
  {
   "cell_type": "markdown",
   "metadata": {},
   "source": [
    "# Coding Challange - 06"
   ]
  },
  {
   "cell_type": "markdown",
   "metadata": {},
   "source": [
    "### Question 1:\n",
    "\n",
    "Write a python class Person that is initialized with age. Create two more classes, Male and Female, that are inherited from the Person class. The two-child classes should contain an instance method marriage(), which returns if the Person can marry or not depending upon the age.\n",
    "\n",
    "Take marriage age for Male as 21 years and Female as 18 years. \n",
    "\n",
    "#### Sample Input:\n",
    "\n",
    "Male - 16\n",
    "<br>Female - 24\n",
    "\n",
    "#### Expected Output:\n",
    "\n",
    "Cannot Marry\n",
    "<br>Can Marry"
   ]
  },
  {
   "cell_type": "code",
   "execution_count": null,
   "metadata": {},
   "outputs": [],
   "source": []
  },
  {
   "cell_type": "markdown",
   "metadata": {},
   "source": [
    "### Question 2:\n",
    "\n",
    "You are given a task to put a number tag on the books on a bookshelf. Each of the n numbers of books should have a number from 1 to n, and different books should have different numbers. Write a python function to calculate the number of digits required for numbering all those tags.\n",
    "\n",
    "\n",
    "#### Expected Output:\n",
    "\n",
    "Enter the number of books:95\n",
    "<br>181"
   ]
  },
  {
   "cell_type": "code",
   "execution_count": null,
   "metadata": {},
   "outputs": [],
   "source": []
  },
  {
   "cell_type": "markdown",
   "metadata": {},
   "source": [
    "### Question 3:\n",
    "\n",
    "Write a python program to get the difference between a number and the reverse of that number. Print the difference as a positive integer.\n",
    "\n",
    "#### Sample Input:\n",
    "\n",
    "num = 86\n",
    "\n",
    "#### Expected Output:\n",
    "\n",
    "18"
   ]
  },
  {
   "cell_type": "code",
   "execution_count": null,
   "metadata": {},
   "outputs": [],
   "source": []
  },
  {
   "cell_type": "markdown",
   "metadata": {},
   "source": [
    "### Question 4:\n",
    "\n",
    "Write a python function to print the time given below into military time(24 Hours) format.\n",
    "\n",
    "10:20:45PM\n",
    "\n",
    "#### Expected Output:\n",
    "\n",
    "'22:20:45'"
   ]
  },
  {
   "cell_type": "code",
   "execution_count": null,
   "metadata": {},
   "outputs": [],
   "source": []
  },
  {
   "cell_type": "markdown",
   "metadata": {},
   "source": [
    "### Question 5:\n",
    "\n",
    "Using user-defined exception, write a python program to guess the number entered in the code until you get the correct answer.\n",
    "\n",
    "#### Expected Output:\n",
    "\n",
    "Enter a number greater than 0: 12\n",
    "<br>Less than the desired number, please try again!\n",
    "\n",
    "Enter a number greater than 0: 18\n",
    "<br>Greater than the desired number, try again!\n",
    "\n",
    "Enter a number greater than 0: 15\n",
    "<br>BINGO! That's the number."
   ]
  },
  {
   "cell_type": "code",
   "execution_count": null,
   "metadata": {},
   "outputs": [],
   "source": []
  },
  {
   "cell_type": "markdown",
   "metadata": {},
   "source": [
    "### Question 6:\n",
    "\n",
    "Write a python function to find the minimum and maximum values calculated by summing precisely four of the five integers from the list given below.\n",
    "\n",
    "myList = [1, 3, 5, 7, 9]\n",
    "\n",
    "\n",
    "#### Expected Output:\n",
    "\n",
    "Minimum:  16\n",
    "<br>Maximum:  24"
   ]
  },
  {
   "cell_type": "code",
   "execution_count": null,
   "metadata": {},
   "outputs": [],
   "source": []
  },
  {
   "cell_type": "markdown",
   "metadata": {},
   "source": [
    "### Question 7:\n",
    "\n",
    "We have a list of numbers given below. Write a python function to ask the user to input a number from the list. Then, push that number towards the end of the list. If the entered number is not present in the list, print the old list.\n",
    "\n",
    "num_list = [0, 2, 4, 5, 6, 2, 3]\n",
    "\n",
    "#### Expected Output:\n",
    "\n",
    "Enter the number to be moved: 2\n",
    "<br>[0, 4, 5, 6, 3, 2, 2]"
   ]
  },
  {
   "cell_type": "code",
   "execution_count": null,
   "metadata": {},
   "outputs": [],
   "source": []
  },
  {
   "cell_type": "markdown",
   "metadata": {},
   "source": [
    "### Question 8:\n",
    "\n",
    "Write a python program to check if the number is divisible by its digits.\n",
    "\n",
    "\n",
    "#### Expected Output:\n",
    "\n",
    "Enter a number: 48\n",
    "<br>Yes"
   ]
  },
  {
   "cell_type": "code",
   "execution_count": null,
   "metadata": {},
   "outputs": [],
   "source": []
  },
  {
   "cell_type": "markdown",
   "metadata": {},
   "source": [
    "### Question 9:\n",
    "\n",
    "Write a python function to evaluate the grade ranging from 0 to 100 in an examination. The student fails the exam if the grade is less than 40. But we like to round off grades above 40 based on the following criteria.\n",
    "If the difference between the grade and the next multiple of 5 is less than 3, round grade up to the next multiple of 5.\n",
    "\n",
    "#### Expected Output:\n",
    "\n",
    "Enter the number of subjects:4\n",
    "<br>Marks of Subjects 1:36\n",
    "<br>Marks of Subjects 2:48\n",
    "<br>Marks of Subjects 3:73\n",
    "<br>Marks of Subjects 4:66\n",
    "<br>Resultant Grade:  [36, 50, 75, 66]"
   ]
  },
  {
   "cell_type": "code",
   "execution_count": null,
   "metadata": {},
   "outputs": [],
   "source": []
  },
  {
   "cell_type": "markdown",
   "metadata": {},
   "source": [
    "### Question 10:\n",
    "\n",
    "Write a python function grow_more to get a sapling height, which increases by one unit in March and by two units in August in a year. The argument of the function takes the number of growth cycles the sapling goes through. Consider the sapling is planted in January.\n",
    "\n",
    "#### Sample Input:\n",
    "\n",
    "7\n",
    "\n",
    "#### Expected Output:\n",
    "\n",
    "30\n",
    "\n",
    "#### Explanation:\n",
    "\n",
    "At 0 --> 1\n",
    "<br>At 1 --> 2\n",
    "<br>At 2 --> 3\n",
    "<br>At 3 --> 6\n",
    "<br>At 4 --> 7\n",
    "<br>At 5 --> 14\n",
    "<br>At 6 --> 15\n",
    "<br>At 7 --> 30"
   ]
  },
  {
   "cell_type": "code",
   "execution_count": null,
   "metadata": {},
   "outputs": [],
   "source": []
  }
 ],
 "metadata": {
  "kernelspec": {
   "display_name": "Python 3",
   "language": "python",
   "name": "python3"
  },
  "language_info": {
   "codemirror_mode": {
    "name": "ipython",
    "version": 3
   },
   "file_extension": ".py",
   "mimetype": "text/x-python",
   "name": "python",
   "nbconvert_exporter": "python",
   "pygments_lexer": "ipython3",
   "version": "3.8.3"
  }
 },
 "nbformat": 4,
 "nbformat_minor": 4
}
