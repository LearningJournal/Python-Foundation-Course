{
 "cells": [
  {
   "cell_type": "markdown",
   "metadata": {},
   "source": [
    "# Practice Exercise - 06"
   ]
  },
  {
   "cell_type": "markdown",
   "metadata": {},
   "source": [
    "### Question 1:\n",
    "\n",
    "Write a Python function to check whether the number given below is present in between 5 to 10 (both included) or not.\n",
    "\n",
    "num = 7\n",
    "\n",
    "#### Expected Output:\n",
    "\n",
    "7 is present between 5-10."
   ]
  },
  {
   "cell_type": "code",
   "execution_count": null,
   "metadata": {},
   "outputs": [],
   "source": []
  },
  {
   "cell_type": "markdown",
   "metadata": {},
   "source": [
    "### Question 2:\n",
    "\n",
    "Write a Python function that accepts two arguments and calculates the addition and subtraction of it. Also, print both the arithmetic results in a single return call. \n",
    "\n",
    "#### Expected Output:\n",
    "\n",
    "(Addition, Substraction) :  (50, 30)"
   ]
  },
  {
   "cell_type": "code",
   "execution_count": null,
   "metadata": {},
   "outputs": [],
   "source": []
  },
  {
   "cell_type": "markdown",
   "metadata": {},
   "source": [
    "### Question 3:\n",
    "\n",
    "Create a function in Python that displays the name and results of a candidate. The function should accept the candidate's name and his/her results as \"Pass/Fail.\" If the result is missing in the function call, show it as \"Pass.\"\n",
    "\n",
    "#### Expected Output:\n",
    "\n",
    "Sam is Pass.\n",
    "<br>Judy is Fail."
   ]
  },
  {
   "cell_type": "code",
   "execution_count": null,
   "metadata": {},
   "outputs": [],
   "source": []
  },
  {
   "cell_type": "markdown",
   "metadata": {},
   "source": [
    "### Question 4:\n",
    "\n",
    "We have a list of numbers given below. Write a Python function to print all the odd-indexed items from the list.\n",
    "\n",
    "n = [2, 3, 5, 6, 8, 9]\n",
    "\n",
    "#### Expected Output:\n",
    "\n",
    "(3, 6, 9)"
   ]
  },
  {
   "cell_type": "code",
   "execution_count": null,
   "metadata": {},
   "outputs": [],
   "source": []
  },
  {
   "cell_type": "markdown",
   "metadata": {},
   "source": [
    "### Question 5:\n",
    "\n",
    "We have the names of six countries given below. Write a Python function to print all the countries that start with the letter 'A.'\n",
    "\n",
    "'Austraiia', 'India', 'Austria', 'America', 'Russia', 'Iran'\n",
    "\n",
    "#### Expected Output:\n",
    "\n",
    "['Austraiia', 'Austria', 'America']"
   ]
  },
  {
   "cell_type": "code",
   "execution_count": null,
   "metadata": {},
   "outputs": [],
   "source": []
  },
  {
   "cell_type": "markdown",
   "metadata": {},
   "source": [
    "### Question 6:\n",
    "\n",
    "A list of tuples is given below, containing the candidate's name and their heights(in cm). Sort this list using Lambda functions according to the heights of the candidates.\n",
    "\n",
    "candidate_details = [('Harry', 168), ('Jhonny', 160), ('Brad', 178), ('Chris', 172)]\n",
    "\n",
    "#### Expected Output:\n",
    "\n",
    "[('Jhonny', 160), ('Harry', 168), ('Chris', 172), ('Brad', 178)]"
   ]
  },
  {
   "cell_type": "code",
   "execution_count": null,
   "metadata": {},
   "outputs": [],
   "source": []
  },
  {
   "cell_type": "markdown",
   "metadata": {},
   "source": [
    "### Question 7:\n",
    "\n",
    "Write a Python function to find 'Mall' from the dictionary 'map_details' given below.\n",
    "\n",
    "map_details = {101:'Park', 102:'Zoo', 103:'Mall'}\n",
    "\n",
    "#### Expected Output:\n",
    "\n",
    "103"
   ]
  },
  {
   "cell_type": "code",
   "execution_count": null,
   "metadata": {},
   "outputs": [],
   "source": []
  },
  {
   "cell_type": "markdown",
   "metadata": {},
   "source": [
    "### Question 8:\n",
    "\n",
    "Write a Python program to add the three lists given below using Python map and Lambda function.\n",
    "\n",
    "list_1 = [1, 5, 8]\n",
    "<br>list_2 = [3, 2, 5]\n",
    "<br>list_3 = [2, 3, 6]\n",
    "\n",
    "#### Expected Output:\n",
    "\n",
    "Resultant List: [6, 10, 19]"
   ]
  },
  {
   "cell_type": "code",
   "execution_count": null,
   "metadata": {},
   "outputs": [],
   "source": []
  },
  {
   "cell_type": "markdown",
   "metadata": {},
   "source": [
    "### Question 9:\n",
    "\n",
    "We have the marks of a student in each subject given below. Write a Python function that takes two parameters 'name' and 'subjects_marks.' Finally, print the student's name and all the subjects in which his/her marks are above 60. If the 'name' is not provided, print 'None.' \n",
    "\n",
    "Mathematics = 80, Physics = 58, Chemistry = 62, English = 72, Biology = 50\n",
    "\n",
    "#### Expected Output:\n",
    "\n",
    "Name:  Brandon - Subjects:  {'Chemistry', 'English', 'Mathematics'}"
   ]
  },
  {
   "cell_type": "code",
   "execution_count": null,
   "metadata": {},
   "outputs": [],
   "source": []
  },
  {
   "cell_type": "markdown",
   "metadata": {},
   "source": [
    "### Question 10:\n",
    "\n",
    "Using Lambda function, extract and print the year from the datetime object given below.\n",
    "\n",
    "given_date = datetime(2008, 6, 12, 10, 30, 0)\n",
    "\n",
    "#### Expected Output:\n",
    "\n",
    "2008"
   ]
  },
  {
   "cell_type": "code",
   "execution_count": null,
   "metadata": {},
   "outputs": [],
   "source": []
  }
 ],
 "metadata": {
  "kernelspec": {
   "display_name": "Python 3",
   "language": "python",
   "name": "python3"
  },
  "language_info": {
   "codemirror_mode": {
    "name": "ipython",
    "version": 3
   },
   "file_extension": ".py",
   "mimetype": "text/x-python",
   "name": "python",
   "nbconvert_exporter": "python",
   "pygments_lexer": "ipython3",
   "version": "3.8.3"
  }
 },
 "nbformat": 4,
 "nbformat_minor": 4
}
