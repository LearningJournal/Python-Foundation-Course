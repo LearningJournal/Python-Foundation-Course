{
 "cells": [
  {
   "cell_type": "markdown",
   "metadata": {},
   "source": [
    "# Practice Exercise - 01"
   ]
  },
  {
   "cell_type": "markdown",
   "metadata": {},
   "source": [
    "### Question 1:\n",
    "\n",
    "There are two numbers given below. Print the sum of these numbers if their product is greater than 100. Otherwise, print their product.\n",
    "\n",
    "a = 15\n",
    "<br>b = 12\n",
    "\n",
    "#### Expected Output:\n",
    "\n",
    "27"
   ]
  },
  {
   "cell_type": "code",
   "execution_count": null,
   "metadata": {},
   "outputs": [],
   "source": []
  },
  {
   "cell_type": "markdown",
   "metadata": {},
   "source": [
    "### Question 2:\n",
    "\n",
    "Write a Python program to print the volume of a cone whose height and diameter are given below. (Take pi = 3.14)\n",
    "\n",
    "h = 10\n",
    "<br>d = 13\n",
    "\n",
    "#### Expected Output:\n",
    "\n",
    "442.21666666666664"
   ]
  },
  {
   "cell_type": "code",
   "execution_count": null,
   "metadata": {},
   "outputs": [],
   "source": []
  },
  {
   "cell_type": "markdown",
   "metadata": {},
   "source": [
    "### Question 3:\n",
    "\n",
    "We have the name and seat numbers of a student given below as two tuples. With this given data, print the students' names and their assigned seat numbers in a single line using the appropriate data type.\n",
    "\n",
    "name = ('Shaun', 'Ron', 'Michael')\n",
    "<br>seat_numbers = (101, 102, 103)\n",
    "\n",
    "#### Expected Output:\n",
    "\n",
    "{'Shaun': 101, 'Ron': 102, 'Michael': 103}"
   ]
  },
  {
   "cell_type": "code",
   "execution_count": null,
   "metadata": {},
   "outputs": [],
   "source": []
  },
  {
   "cell_type": "markdown",
   "metadata": {},
   "source": [
    "### Question 4:\n",
    "\n",
    "We have a number given below. If the number is greater than 0, add 1 to it. Otherwise, subtract 1 from it, and print the new number obtained.\n",
    "\n",
    "num = -6\n",
    "\n",
    "#### Expected Output:\n",
    "\n",
    "-7"
   ]
  },
  {
   "cell_type": "code",
   "execution_count": null,
   "metadata": {},
   "outputs": [],
   "source": []
  },
  {
   "cell_type": "markdown",
   "metadata": {},
   "source": [
    "### Question 5:\n",
    "\n",
    "I have four variables, each assigned with certain values given below. A massive expression line follows it. Re-write the expression which suits the desired lexical model.\n",
    "\n",
    "a = 5\n",
    "<br>b = 2\n",
    "<br>c = 8\n",
    "<br>d = 7\n",
    "\n",
    "x = (((a + b) * (a + c) * (a + d)) / ((b + a) * (b + c) * (b + d)) / ((c + a) * (c + b) * (c + d))) * (a * b * c * d)\n",
    "\n",
    "#### Expected Output:\n",
    "\n",
    "0.4977777777777778"
   ]
  },
  {
   "cell_type": "code",
   "execution_count": null,
   "metadata": {},
   "outputs": [],
   "source": []
  },
  {
   "cell_type": "markdown",
   "metadata": {},
   "source": [
    "### Question 6:\n",
    "\n",
    "There are two numbers given below. Compare them and print the result obtained.\n",
    "\n",
    "a = 5\n",
    "<br>b = 9\n",
    "\n",
    "#### Expected Output:\n",
    "\n",
    "b is greater than a"
   ]
  },
  {
   "cell_type": "code",
   "execution_count": null,
   "metadata": {},
   "outputs": [],
   "source": []
  },
  {
   "cell_type": "markdown",
   "metadata": {},
   "source": [
    "### Question 7:\n",
    "\n",
    "We have a set given below. Find out whether 10 and 7 are present in the given set or not.\n",
    "\n",
    "mySet = {5, 7, 2, 6, 3}\n",
    "\n",
    "#### Expected Output:\n",
    "\n",
    "False\n",
    "<br>True"
   ]
  },
  {
   "cell_type": "code",
   "execution_count": null,
   "metadata": {},
   "outputs": [],
   "source": []
  },
  {
   "cell_type": "markdown",
   "metadata": {},
   "source": [
    "### Question 8:\n",
    "\n",
    "We have a number given below. Write a program to check for the divisibility of this number by 3 and 5, and print the result obtained.\n",
    "\n",
    "a = 12\n",
    "\n",
    "#### Expected Output:\n",
    "\n",
    "a is divisible by either 3 or 5, but not both"
   ]
  },
  {
   "cell_type": "code",
   "execution_count": null,
   "metadata": {},
   "outputs": [],
   "source": []
  },
  {
   "cell_type": "markdown",
   "metadata": {},
   "source": [
    "### Question 9:\n",
    "\n",
    "Write a Python program to check if the given year is a leap year.\n",
    "\n",
    "year = 1996\n",
    "\n",
    "#### Expected Output:\n",
    "\n",
    "Leap Year"
   ]
  },
  {
   "cell_type": "code",
   "execution_count": null,
   "metadata": {},
   "outputs": [],
   "source": []
  },
  {
   "cell_type": "markdown",
   "metadata": {},
   "source": [
    "### Question 10:\n",
    "\n",
    "I have an examination form that requires the following information.\n",
    "\n",
    "Name, Age, Roll Number, and Subjects. \n",
    "\n",
    "Declare the parameters mentioned above with a suitable data type, and then assign some values to it, and finally print the result.\n",
    "\n",
    "#### Expected Output:\n",
    "\n",
    "Name:  Sachin\n",
    "<br>Age:  17\n",
    "<br>Roll Number:  528841\n",
    "<br>Subjects:  ['Maths', 'Physics', 'Chemistry', 'Computer Science', 'English']"
   ]
  },
  {
   "cell_type": "code",
   "execution_count": null,
   "metadata": {},
   "outputs": [],
   "source": []
  }
 ],
 "metadata": {
  "kernelspec": {
   "display_name": "Python 3",
   "language": "python",
   "name": "python3"
  },
  "language_info": {
   "codemirror_mode": {
    "name": "ipython",
    "version": 3
   },
   "file_extension": ".py",
   "mimetype": "text/x-python",
   "name": "python",
   "nbconvert_exporter": "python",
   "pygments_lexer": "ipython3",
   "version": "3.8.3"
  }
 },
 "nbformat": 4,
 "nbformat_minor": 4
}
