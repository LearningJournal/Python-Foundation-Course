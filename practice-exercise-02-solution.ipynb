{
 "cells": [
  {
   "cell_type": "markdown",
   "metadata": {},
   "source": [
    "Question 1:\n",
    "\n",
    "Print the item 'Orange' from the list of fruits given below.\n",
    "\n",
    "fruits = ['Apple', 'Grapes', 'Orange', 'Pineapple', 'Watermelon']\n",
    "\n",
    "Expected Output:\n",
    "\n",
    "Orange"
   ]
  },
  {
   "cell_type": "code",
   "execution_count": 1,
   "metadata": {},
   "outputs": [
    {
     "name": "stdout",
     "output_type": "stream",
     "text": [
      "Orange\n"
     ]
    }
   ],
   "source": [
    "fruits = ['Apple', 'Grapes', 'Orange', 'Pineapple', 'Watermelon']\n",
    "\n",
    "print(fruits[2])"
   ]
  },
  {
   "cell_type": "markdown",
   "metadata": {},
   "source": [
    "Question 2:\n",
    "\n",
    "We have a list of fruits and a string given below. Since the string contains a fruit, add that string to the given list and print that new list.\n",
    "\n",
    "fruit_list = ['Apple', 'Grapes', 'Orange', 'Pineapple', 'Watermelon']\n",
    "<br>fruit_string = 'Mango'\n",
    "\n",
    "Expected Output:\n",
    "\n",
    "['Apple', 'Grapes', 'Orange', 'Pineapple', 'Watermelon', 'Mango']"
   ]
  },
  {
   "cell_type": "code",
   "execution_count": 2,
   "metadata": {},
   "outputs": [
    {
     "name": "stdout",
     "output_type": "stream",
     "text": [
      "['Apple', 'Grapes', 'Orange', 'Pineapple', 'Watermelon', 'Mango']\n"
     ]
    }
   ],
   "source": [
    "fruit_list = ['Apple', 'Grapes', 'Orange', 'Pineapple', 'Watermelon']\n",
    "fruit_string = 'Mango'\n",
    "\n",
    "print(fruit_list + [fruit_string])"
   ]
  },
  {
   "cell_type": "markdown",
   "metadata": {},
   "source": [
    "Question 3:\n",
    "\n",
    "There is a list given below which contains the name of cities. Repeat this list of cities 3 times, and print the old list and the new list.\n",
    "\n",
    "cityList = ['London', 'New York', 'Delhi']\n",
    "\n",
    "Expected Output:\n",
    "\n",
    "Old City List: ['London', 'New York', 'Delhi']\n",
    "<br>New City List: ['London', 'New York', 'Delhi', 'London', 'New York', 'Delhi', 'London', 'New York', 'Delhi']"
   ]
  },
  {
   "cell_type": "code",
   "execution_count": 3,
   "metadata": {},
   "outputs": [
    {
     "name": "stdout",
     "output_type": "stream",
     "text": [
      "Old City List: ['London', 'New York', 'Delhi']\n",
      "New City List: ['London', 'New York', 'Delhi', 'London', 'New York', 'Delhi', 'London', 'New York', 'Delhi']\n"
     ]
    }
   ],
   "source": [
    "cityList = ['London', 'New York', 'Delhi']\n",
    "\n",
    "repeatedList = cityList * 3\n",
    "print(\"Old City List: \" + str(cityList))\n",
    "print(\"New City List: \" + str(repeatedList))"
   ]
  },
  {
   "cell_type": "markdown",
   "metadata": {},
   "source": [
    "Question 4:\n",
    "\n",
    "Check if the city 'Delhi' is present in the list of cities given below.\n",
    "\n",
    "cityList = ['London', 'New York', 'Delhi', 'Mumbai', 'Paris']\n",
    "\n",
    "Expected Output:\n",
    "\n",
    "True"
   ]
  },
  {
   "cell_type": "code",
   "execution_count": 4,
   "metadata": {},
   "outputs": [
    {
     "name": "stdout",
     "output_type": "stream",
     "text": [
      "True\n"
     ]
    }
   ],
   "source": [
    "cityList = ['London', 'New York', 'Delhi', 'Mumbai', 'Paris']\n",
    "\n",
    "print('Delhi' in cityList)"
   ]
  },
  {
   "cell_type": "markdown",
   "metadata": {},
   "source": [
    "Question 5:\n",
    "\n",
    "Reverse the string given below.\n",
    "\n",
    "name = 'Learning Journal'\n",
    "\n",
    "Expected Output:\n",
    "\n",
    "'lanruoJ gninraeL'"
   ]
  },
  {
   "cell_type": "code",
   "execution_count": 5,
   "metadata": {},
   "outputs": [
    {
     "data": {
      "text/plain": [
       "'lanruoJ gninraeL'"
      ]
     },
     "execution_count": 5,
     "metadata": {},
     "output_type": "execute_result"
    }
   ],
   "source": [
    "name = 'Learning Journal'\n",
    "\n",
    "name[::-1]"
   ]
  },
  {
   "cell_type": "markdown",
   "metadata": {},
   "source": [
    "Question 6:\n",
    "\n",
    "There is a string object given below. Print the word 'sunny' from string 'msg.'\n",
    "\n",
    "msg = 'A bright sunny day'\n",
    "\n",
    "Expected Solution:\n",
    "\n",
    "'sunny'"
   ]
  },
  {
   "cell_type": "code",
   "execution_count": 6,
   "metadata": {},
   "outputs": [
    {
     "data": {
      "text/plain": [
       "'sunny'"
      ]
     },
     "execution_count": 6,
     "metadata": {},
     "output_type": "execute_result"
    }
   ],
   "source": [
    "msg = 'A bright sunny day'\n",
    "\n",
    "msg[9:14]"
   ]
  },
  {
   "cell_type": "markdown",
   "metadata": {},
   "source": [
    "Question 7:\n",
    "\n",
    "Check if the cities 'New York' and 'Delhi' are present in the list of cities given below.\n",
    "\n",
    "cityList = ['London', 'New York', 'Delhi', 'Mumbai', 'Paris']\n",
    "\n",
    "Expected Output:\n",
    "\n",
    "True\n",
    "<br>True"
   ]
  },
  {
   "cell_type": "code",
   "execution_count": 7,
   "metadata": {},
   "outputs": [
    {
     "name": "stdout",
     "output_type": "stream",
     "text": [
      "True\n",
      "True\n"
     ]
    }
   ],
   "source": [
    "cityList = ['London', 'New York', 'Delhi', 'Mumbai', 'Paris']\n",
    "\n",
    "print('New York' in cityList)\n",
    "print('Delhi' in cityList)\n",
    "\n",
    "\n",
    "#Explanation:\n",
    "\n",
    "#If your try searching for 'New York' and 'Delhi' in a single statement like this.\n",
    "\n",
    "#print(['New York', 'Delhi'] in cityList)\n",
    "\n",
    "#You will get the output as false. This is because subsequence containment is only applicable to str objects."
   ]
  },
  {
   "cell_type": "markdown",
   "metadata": {},
   "source": [
    "Question 8:\n",
    "\n",
    "Using the slicing operation remove the whitespaces between the letters and print the string once again.\n",
    "\n",
    "name = 'P y t h o n'\n",
    "\n",
    "Expected Output:\n",
    "\n",
    "'Python'"
   ]
  },
  {
   "cell_type": "code",
   "execution_count": 8,
   "metadata": {},
   "outputs": [
    {
     "data": {
      "text/plain": [
       "'Python'"
      ]
     },
     "execution_count": 8,
     "metadata": {},
     "output_type": "execute_result"
    }
   ],
   "source": [
    "name = 'P y t h o n'\n",
    "\n",
    "name[::2]"
   ]
  },
  {
   "cell_type": "markdown",
   "metadata": {},
   "source": [
    "Question 9:\n",
    "\n",
    "Print the index of the letter 'h' from the string given below.\n",
    "\n",
    "name = 'Python'\n",
    "\n",
    "Expected Output:\n",
    "\n",
    "3"
   ]
  },
  {
   "cell_type": "code",
   "execution_count": 9,
   "metadata": {},
   "outputs": [
    {
     "name": "stdout",
     "output_type": "stream",
     "text": [
      "3\n"
     ]
    }
   ],
   "source": [
    "name = 'Python'\n",
    "\n",
    "print(name.index('h'))"
   ]
  },
  {
   "cell_type": "markdown",
   "metadata": {},
   "source": [
    "Question 10:\n",
    "\n",
    "Print the odd indexed elements from the list of colors given below.\n",
    "\n",
    "myList = ['Red', 'Blue', 'Orange', 'White', 'Black', 'Yellow']\n",
    "\n",
    "Expected Output:\n",
    "\n",
    "['Blue', 'White', 'Yellow']"
   ]
  },
  {
   "cell_type": "code",
   "execution_count": 10,
   "metadata": {},
   "outputs": [
    {
     "data": {
      "text/plain": [
       "['Blue', 'White', 'Yellow']"
      ]
     },
     "execution_count": 10,
     "metadata": {},
     "output_type": "execute_result"
    }
   ],
   "source": [
    "myList = ['Red', 'Blue', 'Orange', 'White', 'Black', 'Yellow']\n",
    "\n",
    "myList[1::2]"
   ]
  }
 ],
 "metadata": {
  "kernelspec": {
   "display_name": "Python 3",
   "language": "python",
   "name": "python3"
  },
  "language_info": {
   "codemirror_mode": {
    "name": "ipython",
    "version": 3
   },
   "file_extension": ".py",
   "mimetype": "text/x-python",
   "name": "python",
   "nbconvert_exporter": "python",
   "pygments_lexer": "ipython3",
   "version": "3.8.3"
  }
 },
 "nbformat": 4,
 "nbformat_minor": 4
}
