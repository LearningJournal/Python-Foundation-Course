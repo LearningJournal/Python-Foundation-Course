{
 "cells": [
  {
   "cell_type": "markdown",
   "metadata": {},
   "source": [
    "# Practice Exercise - 03"
   ]
  },
  {
   "cell_type": "markdown",
   "metadata": {},
   "source": [
    "### Question 1:\n",
    "\n",
    "Convert the string given below into a list by taking each word separated by a comma as an element.\n",
    "\n",
    "languages = \"Java, Python, C++, Scala, C\"\n",
    "\n",
    "#### Expected Output:\n",
    "\n",
    "['Java', ' Python', ' C++', ' Scala', ' C']"
   ]
  },
  {
   "cell_type": "code",
   "execution_count": null,
   "metadata": {},
   "outputs": [],
   "source": []
  },
  {
   "cell_type": "markdown",
   "metadata": {},
   "source": [
    "### Question 2:\n",
    "\n",
    "We have a list of numbers given below. Add the element '10' at the 3rd position of the list and finally print the list.\n",
    "\n",
    "num_list = [5, 6, 8, 7, 9]\n",
    "\n",
    "#### Expected Output:\n",
    "\n",
    "[5, 6, 8, 10, 7, 9]"
   ]
  },
  {
   "cell_type": "code",
   "execution_count": null,
   "metadata": {},
   "outputs": [],
   "source": []
  },
  {
   "cell_type": "markdown",
   "metadata": {},
   "source": [
    "### Question 3:\n",
    "\n",
    "Print all the multiples of 3 between 5 and 25.\n",
    "\n",
    "#### Expected Output:\n",
    "\n",
    "6\n",
    "<br>9\n",
    "<br>12\n",
    "<br>15\n",
    "<br>18\n",
    "<br>21\n",
    "<br>24"
   ]
  },
  {
   "cell_type": "code",
   "execution_count": null,
   "metadata": {},
   "outputs": [],
   "source": []
  },
  {
   "cell_type": "markdown",
   "metadata": {},
   "source": [
    "### Question 4:\n",
    "\n",
    "We have a list of numbers given below. Print the square of these numbers into another list using list comprehension.\n",
    "\n",
    "num = [2, 4, 6, 8]\n",
    "\n",
    "#### Expected Output:\n",
    "\n",
    "[4, 16, 36, 64]"
   ]
  },
  {
   "cell_type": "code",
   "execution_count": null,
   "metadata": {},
   "outputs": [],
   "source": []
  },
  {
   "cell_type": "markdown",
   "metadata": {},
   "source": [
    "### Question 5:\n",
    "\n",
    "Print the first 10 natural numbers.\n",
    "\n",
    "#### Expected Output:\n",
    "\n",
    "1\n",
    "<br>2\n",
    "<br>3\n",
    "<br>4\n",
    "<br>5\n",
    "<br>6\n",
    "<br>7\n",
    "<br>8\n",
    "<br>9\n",
    "<br>10"
   ]
  },
  {
   "cell_type": "code",
   "execution_count": null,
   "metadata": {},
   "outputs": [],
   "source": []
  },
  {
   "cell_type": "markdown",
   "metadata": {},
   "source": [
    "### Question 6:\n",
    "\n",
    "We have a tuple of numbers given below. Remove the largest number from the tuple and print it in sorted order.\n",
    "\n",
    "num_tuple = (5, 8, 13, 2, 17, 1)\n",
    "\n",
    "#### Expected Output:\n",
    "\n",
    "[1, 2, 5, 8, 13]"
   ]
  },
  {
   "cell_type": "code",
   "execution_count": null,
   "metadata": {},
   "outputs": [],
   "source": []
  },
  {
   "cell_type": "markdown",
   "metadata": {},
   "source": [
    "### Question 7:\n",
    "\n",
    "Convert the list given below into a string using a comma as a separator argument.\n",
    "\n",
    "myList = ['Lenovo', ' Dell', ' Acer', ' Asus', ' HP']\n",
    "\n",
    "#### Expected Output:\n",
    "\n",
    "'Lenovo, Dell, Acer, Asus, HP'"
   ]
  },
  {
   "cell_type": "code",
   "execution_count": null,
   "metadata": {},
   "outputs": [],
   "source": []
  },
  {
   "cell_type": "markdown",
   "metadata": {},
   "source": [
    "### Question 8:\n",
    "\n",
    "Print all the even numbers between -10 and 0.\n",
    "\n",
    "#### Expected Output:\n",
    "\n",
    "-10\n",
    "<br>-8\n",
    "<br>-6\n",
    "<br>-4\n",
    "<br>-2"
   ]
  },
  {
   "cell_type": "code",
   "execution_count": null,
   "metadata": {},
   "outputs": [],
   "source": []
  },
  {
   "cell_type": "markdown",
   "metadata": {},
   "source": [
    "### Question 9:\n",
    "\n",
    "Reverse the integer given below.\n",
    "\n",
    "n = 5623\n",
    "\n",
    "#### Expected Output:\n",
    "\n",
    "3265"
   ]
  },
  {
   "cell_type": "code",
   "execution_count": null,
   "metadata": {},
   "outputs": [],
   "source": []
  },
  {
   "cell_type": "markdown",
   "metadata": {},
   "source": [
    "### Question 10:\n",
    "\n",
    "We have a list of numbers given below. Print the number, square of the number, and the cube of the number, all in a single list.\n",
    "\n",
    "num = [2, 4, 6, 8]\n",
    "\n",
    "#### Expected Output:\n",
    "\n",
    "[(2, 4, 8), (4, 16, 64), (6, 36, 216), (8, 64, 512)]"
   ]
  },
  {
   "cell_type": "code",
   "execution_count": null,
   "metadata": {},
   "outputs": [],
   "source": []
  }
 ],
 "metadata": {
  "kernelspec": {
   "display_name": "Python 3",
   "language": "python",
   "name": "python3"
  },
  "language_info": {
   "codemirror_mode": {
    "name": "ipython",
    "version": 3
   },
   "file_extension": ".py",
   "mimetype": "text/x-python",
   "name": "python",
   "nbconvert_exporter": "python",
   "pygments_lexer": "ipython3",
   "version": "3.8.3"
  }
 },
 "nbformat": 4,
 "nbformat_minor": 4
}
