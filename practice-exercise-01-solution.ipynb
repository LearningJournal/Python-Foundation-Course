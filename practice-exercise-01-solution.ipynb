{
 "cells": [
  {
   "cell_type": "markdown",
   "metadata": {},
   "source": [
    "Question 1:\n",
    "\n",
    "There are two numbers given below. Print the sum of these numbers if their product is greater than 100, otherwise print their product.\n",
    "\n",
    "a = 15\n",
    "<br>b = 12\n",
    "\n",
    "Expected Output:\n",
    "\n",
    "27"
   ]
  },
  {
   "cell_type": "code",
   "execution_count": 1,
   "metadata": {},
   "outputs": [
    {
     "name": "stdout",
     "output_type": "stream",
     "text": [
      "27\n"
     ]
    }
   ],
   "source": [
    "a = 15\n",
    "b = 12\n",
    "\n",
    "if (a * b) > 100:\n",
    "    print(a + b)\n",
    "else:\n",
    "    print(a * b)"
   ]
  },
  {
   "cell_type": "markdown",
   "metadata": {},
   "source": [
    "Question 2:\n",
    "\n",
    "Write a Python program to print the volume of a cone whose height and diameter are given below. (Take pi = 3.14)\n",
    "\n",
    "h = 10\n",
    "<br>d = 13\n",
    "\n",
    "Expected Output:\n",
    "\n",
    "442.21666666666664"
   ]
  },
  {
   "cell_type": "code",
   "execution_count": 2,
   "metadata": {},
   "outputs": [
    {
     "name": "stdout",
     "output_type": "stream",
     "text": [
      "442.21666666666664\n"
     ]
    }
   ],
   "source": [
    "h = 10\n",
    "d = 13\n",
    "\n",
    "area = ((1/3)*(3.14)*((d/2)**2)*h)\n",
    "print(area)"
   ]
  },
  {
   "cell_type": "markdown",
   "metadata": {},
   "source": [
    "Question 3:\n",
    "\n",
    "We have the name and seat numbers of student given below as two tuples. With this given data, print the name of the students and their assigned seat numbers in a single line using the appropriate data type.\n",
    "\n",
    "name = ('Shaun', 'Ron', 'Michael')\n",
    "<br>seat_numbers = (101, 102, 103)\n",
    "\n",
    "Expected Output:\n",
    "\n",
    "{'Shaun': 101, 'Ron': 102, 'Michael': 103}"
   ]
  },
  {
   "cell_type": "code",
   "execution_count": 3,
   "metadata": {},
   "outputs": [
    {
     "name": "stdout",
     "output_type": "stream",
     "text": [
      "{'Shaun': 101, 'Ron': 102, 'Michael': 103}\n"
     ]
    }
   ],
   "source": [
    "student_details = {'Shaun':101, 'Ron':102, 'Michael':103} #Dictionary\n",
    "print(student_details)"
   ]
  },
  {
   "cell_type": "markdown",
   "metadata": {},
   "source": [
    "Question 4:\n",
    "\n",
    "We have a number given below. If the number is greater then 0 add 1 to it, otherwise subtract 1 from it, and print the new number obtained.\n",
    "\n",
    "num = -6\n",
    "\n",
    "Expected Output:\n",
    "\n",
    "-7"
   ]
  },
  {
   "cell_type": "code",
   "execution_count": 4,
   "metadata": {},
   "outputs": [
    {
     "name": "stdout",
     "output_type": "stream",
     "text": [
      "-7\n"
     ]
    }
   ],
   "source": [
    "num = -6\n",
    "\n",
    "if num > 0:\n",
    "    num += 1\n",
    "    print(num)\n",
    "else:\n",
    "    num -= 1\n",
    "    print(num)"
   ]
  },
  {
   "cell_type": "markdown",
   "metadata": {},
   "source": [
    "Question 5:\n",
    "\n",
    "I have four variables each assigned with certain values given below, it is followed by a huge line of expression. Re-write the expression which suits the desired lexical model.\n",
    "\n",
    "a = 5\n",
    "<br>b = 2\n",
    "<br>c = 8\n",
    "<br>d = 7\n",
    "\n",
    "x = (((a + b) * (a + c) * (a + d)) / ((b + a) * (b + c) * (b + d)) / ((c + a) * (c + b) * (c + d))) * (a * b * c * d)\n",
    "\n",
    "Expected Output:\n",
    "\n",
    "0.4977777777777778"
   ]
  },
  {
   "cell_type": "code",
   "execution_count": 5,
   "metadata": {},
   "outputs": [
    {
     "name": "stdout",
     "output_type": "stream",
     "text": [
      "0.4977777777777778\n"
     ]
    }
   ],
   "source": [
    "a = 5\n",
    "b = 2\n",
    "c = 8\n",
    "d = 7\n",
    "\n",
    "x = (((a + b) * (a + c) * (a + d))\\\n",
    "     / ((b + a) * (b + c) * (b + d))\\\n",
    "     / ((c + a) * (c + b) * (c + d)))\\\n",
    "     * (a * b * c * d)\n",
    "print(x)"
   ]
  },
  {
   "cell_type": "markdown",
   "metadata": {},
   "source": [
    "Question 6:\n",
    "\n",
    "There are two numbers given below. Compare them and print the result obtained.\n",
    "\n",
    "a = 5\n",
    "<br>b = 9\n",
    "\n",
    "Expected Output:\n",
    "\n",
    "b is greater than a"
   ]
  },
  {
   "cell_type": "code",
   "execution_count": 6,
   "metadata": {},
   "outputs": [
    {
     "name": "stdout",
     "output_type": "stream",
     "text": [
      "b is greater than a\n"
     ]
    }
   ],
   "source": [
    "a = 5\n",
    "b = 9\n",
    "\n",
    "if a > b:\n",
    "    print('a is greater than b')\n",
    "elif a < b:\n",
    "    print('b is greater than a')\n",
    "else:\n",
    "    print('a is equal to b')"
   ]
  },
  {
   "cell_type": "markdown",
   "metadata": {},
   "source": [
    "Question 7:\n",
    "\n",
    "We have set given below. Find out whether 10 and 7 are present in the given set or not.\n",
    "\n",
    "mySet = {5, 7, 2, 6, 3}\n",
    "\n",
    "Expected Output:\n",
    "\n",
    "False\n",
    "<br>True"
   ]
  },
  {
   "cell_type": "code",
   "execution_count": 7,
   "metadata": {},
   "outputs": [
    {
     "name": "stdout",
     "output_type": "stream",
     "text": [
      "False\n",
      "True\n"
     ]
    }
   ],
   "source": [
    "mySet = {5, 7, 2, 6, 3}\n",
    "\n",
    "print(10 in mySet)\n",
    "print(7 in mySet)"
   ]
  },
  {
   "cell_type": "markdown",
   "metadata": {},
   "source": [
    "Question 8:\n",
    "\n",
    "We have a number given below. Write a program to check for the divisiblity of this number by 3 and 5, and print the result obtained.\n",
    "\n",
    "a = 12\n",
    "\n",
    "Expected Output:\n",
    "\n",
    "a is divisible by either 3 or 5, but not both"
   ]
  },
  {
   "cell_type": "code",
   "execution_count": 8,
   "metadata": {},
   "outputs": [
    {
     "name": "stdout",
     "output_type": "stream",
     "text": [
      "a is divisible by either 3 or 5, but not both\n"
     ]
    }
   ],
   "source": [
    "a = 12\n",
    "\n",
    "if a % 3 == 0 and a % 5 == 0:\n",
    "    print('a is divisible by both 3 and 5')\n",
    "elif a % 3 == 0 or a % 5 == 0:\n",
    "    print('a is divisible by either 3 or 5, but not both')\n",
    "else:\n",
    "    print('a is neither divisible by 3 or 5')"
   ]
  },
  {
   "cell_type": "markdown",
   "metadata": {},
   "source": [
    "Question 9:\n",
    "\n",
    "Write a Python program to check if the given year is a leap year.\n",
    "\n",
    "year = 1996\n",
    "\n",
    "Expected Output:\n",
    "\n",
    "Leap Year"
   ]
  },
  {
   "cell_type": "code",
   "execution_count": 9,
   "metadata": {},
   "outputs": [
    {
     "name": "stdout",
     "output_type": "stream",
     "text": [
      "Leap Year\n"
     ]
    }
   ],
   "source": [
    "year = 1996\n",
    "\n",
    "if year % 4 == 0:\n",
    "    print('Leap Year')\n",
    "else:\n",
    "    print('Non Leap Year')"
   ]
  },
  {
   "cell_type": "markdown",
   "metadata": {},
   "source": [
    "Question 10:\n",
    "\n",
    "I have an examination form which requires the following information.\n",
    "\n",
    "Name, Age, Roll Number and Subjects. \n",
    "\n",
    "Declare the above mentioned parameters with suitable data type, and then assign some values to it, and finally print the result.\n",
    "\n",
    "Expected Output:\n",
    "\n",
    "Name:  Sachin\n",
    "<br>Age:  17\n",
    "<br>Roll Number:  528841\n",
    "<br>Subjects:  ['Maths', 'Physics', 'Chemistry', 'Computer Science', 'English']"
   ]
  },
  {
   "cell_type": "code",
   "execution_count": 10,
   "metadata": {},
   "outputs": [
    {
     "name": "stdout",
     "output_type": "stream",
     "text": [
      "Name:  Sachin\n",
      "Age:  17\n",
      "Roll Number:  528841\n",
      "Subjects:  ['Maths', 'Physics', 'Chemistry', 'Computer Science', 'English']\n"
     ]
    }
   ],
   "source": [
    "name = 'Sachin' #String Object\n",
    "age = 17 #Int Object\n",
    "roll_no = 528841 #Int Object\n",
    "subjects = ['Maths', 'Physics', 'Chemistry', 'Computer Science', 'English'] #Sequence Type - List \n",
    "\n",
    "print('Name: ',name)\n",
    "print('Age: ',age)\n",
    "print('Roll Number: ',roll_no)\n",
    "print('Subjects: ',subjects)"
   ]
  }
 ],
 "metadata": {
  "kernelspec": {
   "display_name": "Python 3",
   "language": "python",
   "name": "python3"
  },
  "language_info": {
   "codemirror_mode": {
    "name": "ipython",
    "version": 3
   },
   "file_extension": ".py",
   "mimetype": "text/x-python",
   "name": "python",
   "nbconvert_exporter": "python",
   "pygments_lexer": "ipython3",
   "version": "3.8.3"
  }
 },
 "nbformat": 4,
 "nbformat_minor": 4
}
