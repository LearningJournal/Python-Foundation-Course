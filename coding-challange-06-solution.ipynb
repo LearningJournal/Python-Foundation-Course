{
 "cells": [
  {
   "cell_type": "markdown",
   "metadata": {},
   "source": [
    "# Coding Challange - 06 - Solution"
   ]
  },
  {
   "cell_type": "markdown",
   "metadata": {},
   "source": [
    "### Question 1:\n",
    "\n",
    "Write a python class Person that is initialized with age. Create two more classes, Male and Female, that are inherited from the Person class. The two-child classes should contain an instance method marriage(), which returns if the Person can marry or not depending upon the age.\n",
    "\n",
    "Take marriage age for Male as 21 years and Female as 18 years. \n",
    "\n",
    "#### Sample Input:\n",
    "\n",
    "Male - 16\n",
    "<br>Female - 24\n",
    "\n",
    "#### Expected Output:\n",
    "\n",
    "Cannot Marry\n",
    "<br>Can Marry"
   ]
  },
  {
   "cell_type": "code",
   "execution_count": 1,
   "metadata": {},
   "outputs": [
    {
     "name": "stdout",
     "output_type": "stream",
     "text": [
      "Cannot Marry\n",
      "Can Marry\n"
     ]
    }
   ],
   "source": [
    "class Person:\n",
    "    def __init__(self, age):\n",
    "        self.age = age\n",
    "\n",
    "class Male(Person):\n",
    "    def marriage(self):\n",
    "        if self.age > 21:\n",
    "            print('Can Marry')\n",
    "        else:\n",
    "            print('Cannot Marry')\n",
    "\n",
    "class Female(Person):\n",
    "    def marriage(self):\n",
    "        if self.age > 18:\n",
    "            print('Can Marry')\n",
    "        else:\n",
    "            print('Cannot Marry')\n",
    "\n",
    "male_obj = Male(16)\n",
    "female_obj = Female(24)\n",
    "male_obj.marriage()\n",
    "female_obj.marriage()"
   ]
  },
  {
   "cell_type": "markdown",
   "metadata": {},
   "source": [
    "### Question 2:\n",
    "\n",
    "You are given a task to put a number tag on the books on a bookshelf. Each of the n numbers of books should have a number from 1 to n, and different books should have different numbers. Write a python function to calculate the number of digits required for numbering all those tags.\n",
    "\n",
    "\n",
    "#### Expected Output:\n",
    "\n",
    "Enter the number of books:95\n",
    "<br>181"
   ]
  },
  {
   "cell_type": "code",
   "execution_count": 2,
   "metadata": {},
   "outputs": [
    {
     "name": "stdout",
     "output_type": "stream",
     "text": [
      "Enter the number of books:95\n",
      "181\n"
     ]
    }
   ],
   "source": [
    "def book_tags(n):\n",
    "    if n == 1:\n",
    "        return 1\n",
    "     \n",
    "    s = str(n)\n",
    "     \n",
    "    return len(s) + book_tags(n - 1)\n",
    " \n",
    "no_of_books = int(input('Enter the number of books:'))\n",
    "print(book_tags(no_of_books))"
   ]
  },
  {
   "cell_type": "markdown",
   "metadata": {},
   "source": [
    "### Question 3:\n",
    "\n",
    "Write a python program to get the difference between a number and the reverse of that number. Print the difference as a positive integer.\n",
    "\n",
    "#### Sample Input:\n",
    "\n",
    "num = 86\n",
    "\n",
    "#### Expected Output:\n",
    "\n",
    "18"
   ]
  },
  {
   "cell_type": "code",
   "execution_count": 3,
   "metadata": {},
   "outputs": [
    {
     "name": "stdout",
     "output_type": "stream",
     "text": [
      "18\n"
     ]
    }
   ],
   "source": [
    "def reverse_diff(num):\n",
    "    return num\n",
    "\n",
    "def reverse(num):\n",
    "    rev = 0    \n",
    "    while(num > 0):    \n",
    "        rem = num %10    \n",
    "        rev = (rev *10) + rem    \n",
    "        num = num //10  \n",
    "    return rev\n",
    "    \n",
    "diff = abs(reverse_diff(86) - reverse(86))\n",
    "print(diff)"
   ]
  },
  {
   "cell_type": "markdown",
   "metadata": {},
   "source": [
    "### Question 4:\n",
    "\n",
    "Write a python function to print the time given below into military time(24 Hours) format.\n",
    "\n",
    "10:20:45PM\n",
    "\n",
    "#### Expected Output:\n",
    "\n",
    "'22:20:45'"
   ]
  },
  {
   "cell_type": "code",
   "execution_count": 4,
   "metadata": {},
   "outputs": [
    {
     "data": {
      "text/plain": [
       "'22:20:45'"
      ]
     },
     "execution_count": 4,
     "metadata": {},
     "output_type": "execute_result"
    }
   ],
   "source": [
    "def military_time_conversion(s):\n",
    "    time = s.split(\":\")\n",
    "    \n",
    "    if s[-2:] == \"PM\":\n",
    "        if time[0] != \"12\":\n",
    "            time[0] = str(int(time[0])+12)\n",
    "    else:\n",
    "        if time[0] == \"12\":\n",
    "            time[0] = \"00\"\n",
    "            \n",
    "    ntime = ':'.join(time)\n",
    "    return str(ntime[:-2])\n",
    "\n",
    "military_time_conversion('10:20:45PM')"
   ]
  },
  {
   "cell_type": "markdown",
   "metadata": {},
   "source": [
    "### Question 5:\n",
    "\n",
    "Using user-defined exception, write a python program to guess the number entered in the code until you get the correct answer.\n",
    "\n",
    "#### Expected Output:\n",
    "\n",
    "Enter a number greater than 0: 12\n",
    "<br>Less than the desired number, please try again!\n",
    "\n",
    "Enter a number greater than 0: 18\n",
    "<br>Greater than the desired number, try again!\n",
    "\n",
    "Enter a number greater than 0: 15\n",
    "<br>BINGO! That's the number."
   ]
  },
  {
   "cell_type": "code",
   "execution_count": 5,
   "metadata": {},
   "outputs": [
    {
     "name": "stdout",
     "output_type": "stream",
     "text": [
      "Enter a number greater than 0: 12\n",
      "Less than the desired number, please try again!\n",
      "\n",
      "Enter a number greater than 0: 18\n",
      "Greater than the desired number, try again!\n",
      "\n",
      "Enter a number greater than 0: 15\n",
      "BINGO! That's the number.\n"
     ]
    }
   ],
   "source": [
    "class NumError(Exception):    \n",
    "    pass\n",
    "\n",
    "class NumSmallError(NumError):    \n",
    "    pass\n",
    "\n",
    "class NumLargeError(NumError):    \n",
    "    pass\n",
    "\n",
    "num = 15\n",
    "\n",
    "while True:\n",
    "    try:\n",
    "        input_num = int(input(\"Enter a number greater than 0: \"))\n",
    "        if input_num < num:\n",
    "            raise NumSmallError\n",
    "        elif input_num > num:\n",
    "            raise NumLargeError\n",
    "        break\n",
    "    except NumSmallError:\n",
    "        print(\"Less than the desired number, please try again!\\n\")        \n",
    "    except NumLargeError:\n",
    "        print(\"Greater than the desired number, try again!\\n\")        \n",
    "\n",
    "print(\"BINGO! That's the number.\")"
   ]
  },
  {
   "cell_type": "markdown",
   "metadata": {},
   "source": [
    "### Question 6:\n",
    "\n",
    "Write a python function to find the minimum and maximum values calculated by summing precisely four of the five integers from the list given below.\n",
    "\n",
    "myList = [1, 3, 5, 7, 9]\n",
    "\n",
    "\n",
    "#### Expected Output:\n",
    "\n",
    "Minimum:  16\n",
    "<br>Maximum:  24"
   ]
  },
  {
   "cell_type": "code",
   "execution_count": 6,
   "metadata": {},
   "outputs": [
    {
     "name": "stdout",
     "output_type": "stream",
     "text": [
      "Minimum:  16\n",
      "Maximum:  24\n"
     ]
    }
   ],
   "source": [
    "def min_max(*numList):\n",
    "    sum=0\n",
    "    \n",
    "    for i in range(len(numList)):\n",
    "        sum += numList[i]\n",
    "    print('Minimum: ', sum-max(numList)) \n",
    "    print('Maximum: ', sum-min(numList))\n",
    "    \n",
    "myList = [1, 3, 5, 7, 9]\n",
    "min_max(*myList)"
   ]
  },
  {
   "cell_type": "markdown",
   "metadata": {},
   "source": [
    "### Question 7:\n",
    "\n",
    "We have a list of numbers given below. Write a python function to ask the user to input a number from the list. Then, push that number towards the end of the list. If the entered number is not present in the list, print the old list.\n",
    "\n",
    "num_list = [0, 2, 4, 5, 6, 2, 3]\n",
    "\n",
    "#### Expected Output:\n",
    "\n",
    "Enter the number to be moved: 2\n",
    "<br>[0, 4, 5, 6, 3, 2, 2]"
   ]
  },
  {
   "cell_type": "code",
   "execution_count": 7,
   "metadata": {},
   "outputs": [
    {
     "name": "stdout",
     "output_type": "stream",
     "text": [
      "Enter the number to be moved: 2\n",
      "[0, 4, 5, 6, 3, 2, 2]\n"
     ]
    }
   ],
   "source": [
    "def move_num(*num_list):\n",
    "    \n",
    "    remove_num = [n for i in range(num_list.count(n))]\n",
    "    new_list = [i for i in num_list if i != n]\n",
    "    new_list.extend(remove_num)\n",
    "    \n",
    "    return(new_list)\n",
    "\n",
    "myList = [0, 2, 4, 5, 6, 2, 3]\n",
    "\n",
    "n = int(input('Enter the number to be moved: '))\n",
    "print(move_num(*myList))"
   ]
  },
  {
   "cell_type": "markdown",
   "metadata": {},
   "source": [
    "### Question 8:\n",
    "\n",
    "Write a python program to check if the number is divisible by its digits.\n",
    "\n",
    "\n",
    "#### Expected Output:\n",
    "\n",
    "Enter a number: 48\n",
    "<br>Yes"
   ]
  },
  {
   "cell_type": "code",
   "execution_count": 8,
   "metadata": {},
   "outputs": [
    {
     "name": "stdout",
     "output_type": "stream",
     "text": [
      "Enter a number: 48\n",
      "Yes\n"
     ]
    }
   ],
   "source": [
    "def check_div(num, digit) :\n",
    "\n",
    "    return (digit != 0 and num % digit == 0)\n",
    "\n",
    "def digits_divide(x) :\n",
    "    temp = x\n",
    "\n",
    "    while (temp > 0) :\n",
    "        digit = temp % 10\n",
    "        if ((check_div(x, digit)) == False) :\n",
    "            return False\n",
    "\n",
    "        temp = temp // 10\n",
    "\n",
    "    return True\n",
    "\n",
    "n = int(input('Enter a number: '))\n",
    "\n",
    "if digits_divide(n):\n",
    "    print(\"Yes\")\n",
    "else:\n",
    "    print(\"No\" )"
   ]
  },
  {
   "cell_type": "markdown",
   "metadata": {},
   "source": [
    "### Question 9:\n",
    "\n",
    "Write a python function to evaluate the grade ranging from 0 to 100 in an examination. The student fails the exam if the grade is less than 40. But we like to round off grades above 40 based on the following criteria.\n",
    "If the difference between the grade and the next multiple of 5 is less than 3, round grade up to the next multiple of 5.\n",
    "\n",
    "#### Expected Output:\n",
    "\n",
    "Enter the number of subjects:4\n",
    "<br>Marks of Subjects 1:36\n",
    "<br>Marks of Subjects 2:48\n",
    "<br>Marks of Subjects 3:73\n",
    "<br>Marks of Subjects 4:66\n",
    "<br>Resultant Grade:  [36, 50, 75, 66]"
   ]
  },
  {
   "cell_type": "code",
   "execution_count": 9,
   "metadata": {},
   "outputs": [
    {
     "name": "stdout",
     "output_type": "stream",
     "text": [
      "Enter the number of subjects:4\n",
      "Marks of Subjects 1:36\n",
      "Marks of Subjects 2:48\n",
      "Marks of Subjects 3:73\n",
      "Marks of Subjects 4:66\n",
      "Resultant Grade:  [36, 50, 75, 66]\n"
     ]
    }
   ],
   "source": [
    "def student_grades(grades):\n",
    "    \n",
    "    for i in range(len(grades)):\n",
    "        \n",
    "        if(grades[i] > 37):\n",
    "            \n",
    "            if((grades[i] % 5) != 0):\n",
    "                if(5 - (grades[i] % 5) < 3):\n",
    "                    \n",
    "                    grades[i] += 5 - (grades[i] % 5)\n",
    "    return (grades)\n",
    "\n",
    "grades_count = int(input('Enter the number of subjects:'))\n",
    "\n",
    "grades = []\n",
    "\n",
    "for i in range(grades_count):\n",
    "    grades_item = int(input(f'Marks of Subjects {i + 1}:'))\n",
    "    grades.append(grades_item)\n",
    "\n",
    "result = student_grades(grades)\n",
    "print('Resultant Grade: ', result)"
   ]
  },
  {
   "cell_type": "markdown",
   "metadata": {},
   "source": [
    "### Question 10:\n",
    "\n",
    "Write a python function grow_more to get a sapling height, which increases by one unit in March and by two units in August in a year. The argument of the function takes the number of growth cycles the sapling goes through. Consider the sapling is planted in January.\n",
    "\n",
    "#### Sample Input:\n",
    "\n",
    "7\n",
    "\n",
    "#### Expected Output:\n",
    "\n",
    "30\n",
    "\n",
    "#### Explanation:\n",
    "\n",
    "At 0 --> 1\n",
    "<br>At 1 --> 2\n",
    "<br>At 2 --> 3\n",
    "<br>At 3 --> 6\n",
    "<br>At 4 --> 7\n",
    "<br>At 5 --> 14\n",
    "<br>At 6 --> 15\n",
    "<br>At 7 --> 30"
   ]
  },
  {
   "cell_type": "code",
   "execution_count": 10,
   "metadata": {},
   "outputs": [
    {
     "data": {
      "text/plain": [
       "30"
      ]
     },
     "execution_count": 10,
     "metadata": {},
     "output_type": "execute_result"
    }
   ],
   "source": [
    "def grow_more(num):\n",
    "    boolean = False\n",
    "    count = 0\n",
    "    for i in range(num + 1):\n",
    "        if(boolean == False):\n",
    "            count += 1\n",
    "            boolean = True\n",
    "        else:\n",
    "            count *= 2\n",
    "            boolean = False\n",
    "    return count\n",
    "\n",
    "grow_more(7)"
   ]
  }
 ],
 "metadata": {
  "kernelspec": {
   "display_name": "Python 3",
   "language": "python",
   "name": "python3"
  },
  "language_info": {
   "codemirror_mode": {
    "name": "ipython",
    "version": 3
   },
   "file_extension": ".py",
   "mimetype": "text/x-python",
   "name": "python",
   "nbconvert_exporter": "python",
   "pygments_lexer": "ipython3",
   "version": "3.8.3"
  }
 },
 "nbformat": 4,
 "nbformat_minor": 4
}
