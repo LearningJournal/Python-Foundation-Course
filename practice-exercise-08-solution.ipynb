{
 "cells": [
  {
   "cell_type": "markdown",
   "metadata": {},
   "source": [
    "# Practice Exercise - 08 - Solution"
   ]
  },
  {
   "cell_type": "markdown",
   "metadata": {},
   "source": [
    "### Question 1:\n",
    "\n",
    "Write a python class *Student*, which contains the student's name and his marks in 3 subjects given below. Define a class method to calculate and return the average percentage of the student. Finally, call the class and display all the information.\n",
    "\n",
    "name = 'Robin'\n",
    "<br>sub_1 = 85\n",
    "<br>sub_2 = 74\n",
    "<br>sub_3 = 90\n",
    "\n",
    "#### Expected Output:\n",
    "\n",
    "Robin\n",
    "<br>83.0"
   ]
  },
  {
   "cell_type": "code",
   "execution_count": 1,
   "metadata": {},
   "outputs": [
    {
     "name": "stdout",
     "output_type": "stream",
     "text": [
      "Robin\n",
      "83.0\n"
     ]
    }
   ],
   "source": [
    "class Student:\n",
    "    name = 'Robin'\n",
    "    sub_1 = 85\n",
    "    sub_2 = 74\n",
    "    sub_3 = 90\n",
    "    \n",
    "    def avg_marks():\n",
    "        return (Student.sub_1 + Student.sub_2 + Student.sub_3)/3\n",
    "\n",
    "print(Student.name)\n",
    "print(Student.avg_marks())"
   ]
  },
  {
   "cell_type": "markdown",
   "metadata": {},
   "source": [
    "### Question 2:\n",
    "\n",
    "Create a module *calculator.py*, consisting of 4 methods performing arithmetic operations on two numbers: addition, subtraction, multiplication, and division. Now import this module in another python file *test.py* and perform the addition and division operations by calling the functions from the *calculator.py* file.\n",
    "\n",
    "#### Expected Output:\n",
    "\n",
    "Addition: 125\n",
    "<br>Division: 4.0"
   ]
  },
  {
   "cell_type": "markdown",
   "metadata": {},
   "source": [
    "### Solution:\n",
    "You can find the solution to this question in the \"*practice-exercise-08-question-02.zip*\" folder. The folder consists of 2 files, i.e., *calculator.py* and *test.py*."
   ]
  },
  {
   "cell_type": "markdown",
   "metadata": {},
   "source": [
    "### Question 3:\n",
    "\n",
    "Create a class *Student* initialized with name, roll_number, and the student's total percentage. Also, define a class attribute that provides the institution's name, and it will be the same for all the students since they are all studying under a single institution. Then create two objects of this class and display the information.\n",
    "\n",
    "#### Expected Output:\n",
    "\n",
    "Student 1: Marcus of Cambridge @ 25 has got 95%.\n",
    "<br>Student 2: Derek of Cambridge @ 12 has got 84%."
   ]
  },
  {
   "cell_type": "code",
   "execution_count": 2,
   "metadata": {},
   "outputs": [
    {
     "name": "stdout",
     "output_type": "stream",
     "text": [
      "Student 1: Marcus of Cambridge @ 25 has got 95%.\n",
      "Student 2: Derek of Cambridge @ 12 has got 84%.\n"
     ]
    }
   ],
   "source": [
    "class Student:\n",
    "    institute = \"Cambridge\"\n",
    "    \n",
    "    def __init__(self, name, roll_no, marks):\n",
    "        self.student_name = name\n",
    "        self.student_roll_no = roll_no\n",
    "        self.student_marks = marks\n",
    "        \n",
    "student1 = Student('Marcus', 25, 95)\n",
    "print(f'Student 1: {student1.student_name} of {student1.institute} @ {student1.student_roll_no}\\\n",
    " has got {student1.student_marks}%.')\n",
    "\n",
    "student2 = Student('Derek', 12, 84)\n",
    "print(f'Student 2: {student2.student_name} of {student1.institute} @ {student2.student_roll_no}\\\n",
    " has got {student2.student_marks}%.')"
   ]
  },
  {
   "cell_type": "markdown",
   "metadata": {},
   "source": [
    "### Question 4:\n",
    "\n",
    "Write a python class *reverse_string* to reverse the words of a string.\n",
    "\n",
    "Input String: Learning Journal - Python Foundation Course\n",
    "\n",
    "#### Expected Output:\n",
    "\n",
    "Output String: Course Foundation Python - Journal Learning"
   ]
  },
  {
   "cell_type": "code",
   "execution_count": 3,
   "metadata": {},
   "outputs": [
    {
     "name": "stdout",
     "output_type": "stream",
     "text": [
      "Output String:  Course Foundation Python - Journal Learning\n"
     ]
    }
   ],
   "source": [
    "class reverse_string:\n",
    "    def __init__(self, text):\n",
    "        self.text = text\n",
    "    \n",
    "    def getString(self):\n",
    "        return ' '.join(reversed(self.text.split()))\n",
    "\n",
    "input_string = 'Learning Journal - Python Foundation Course'\n",
    "obj = reverse_string(input_string)\n",
    "\n",
    "print('Output String: ', obj.getString())"
   ]
  },
  {
   "cell_type": "markdown",
   "metadata": {},
   "source": [
    "### Question 5:\n",
    "\n",
    "Create two modules *medical.py* and *report.py*. The *medical.py* file should take the details given below and calculate the BMI. The *report.py* file should display the message regarding the customer's fitness depending upon the BMI calculated from *medical.py*. Display only the message but not the BMI calculated from *medical.py*. It should only be displayed when we execute the *medical.py* file.\n",
    "\n",
    "Name: David\n",
    "<br>Weight: 83 Kgs\n",
    "<br>Height: 1.85 m\n",
    "\n",
    "BMI = Weight / (Height * Height)\n",
    "\n",
    "BMI > 25 ----> Overweight\n",
    "<br>BMI < 18.5 ----> Underweight\n",
    "<br>Otherwise ----> Normal Weight\n",
    "\n",
    "#### Expected Output:\n",
    "\n",
    "Overweight"
   ]
  },
  {
   "cell_type": "markdown",
   "metadata": {},
   "source": [
    "### Solution:\n",
    "\n",
    "You can find the solution to this question in the \"*practice-exercise-08-question-05.zip*\" folder. The folder consists of 2 files, i.e., *medical.py* and *report.py*."
   ]
  },
  {
   "cell_type": "markdown",
   "metadata": {},
   "source": [
    "### Question 6:\n",
    "\n",
    "Create a class *Mensuration*, which is initialized with length, breadth, and height. Now, create another class *cuboid* that will inherit the *Mensuration* class, and the child class will contain an instance method *volume* to calculate and display the volume of a cuboid.\n",
    "\n",
    "Length = 5\n",
    "<br>Breadth = 3\n",
    "<br>Height  = 4\n",
    "\n",
    "#### Expected Output:\n",
    "\n",
    "Volume of Cuboid:  60"
   ]
  },
  {
   "cell_type": "code",
   "execution_count": 4,
   "metadata": {},
   "outputs": [
    {
     "name": "stdout",
     "output_type": "stream",
     "text": [
      "Volume of Cuboid:  60\n"
     ]
    }
   ],
   "source": [
    "class Mensuration:\n",
    "    def __init__(self, length, breadth, height):\n",
    "        self.length = length\n",
    "        self.breadth = breadth\n",
    "        self.heigth = height\n",
    "        \n",
    "class Cuboid(Mensuration):\n",
    "    def volume(self):\n",
    "        self.result = self.length * self.breadth * self.heigth\n",
    "        print(f\"Volume of Cuboid: \", self.result)\n",
    "\n",
    "obj1 = Cuboid(5, 3, 4)\n",
    "obj1.volume()"
   ]
  },
  {
   "cell_type": "markdown",
   "metadata": {},
   "source": [
    "### Question 7:\n",
    "\n",
    "Write a python class *Cube* that contains three methods to calculate the curved surface area, total surface area, and volume of the cube. The side of the cube is five units.\n",
    "\n",
    "#### Expected Output:\n",
    "\n",
    "Curved Surface Area:  100\n",
    "<br>Total Surface Area:  150\n",
    "<br>Volume:  125"
   ]
  },
  {
   "cell_type": "code",
   "execution_count": 5,
   "metadata": {},
   "outputs": [
    {
     "name": "stdout",
     "output_type": "stream",
     "text": [
      "Curved Surface Area:  100\n",
      "Total Surface Area:  150\n",
      "Volume:  125\n"
     ]
    }
   ],
   "source": [
    "class Cube:\n",
    "    def __init__(self, side):\n",
    "        self.cube_side = side\n",
    "\n",
    "    def curved_area(self):\n",
    "        print('Curved Surface Area: ', (4*(pow(self.cube_side, 2))))\n",
    "\n",
    "    def total_area(self):\n",
    "        print('Total Surface Area: ', (6*(pow(self.cube_side, 2))))\n",
    "\n",
    "    def volume(self):\n",
    "        print('Volume: ', (pow(self.cube_side, 3)))\n",
    "\n",
    "cube_obj = Cube(5)\n",
    "cube_obj.curved_area()\n",
    "cube_obj.total_area()\n",
    "cube_obj.volume()"
   ]
  },
  {
   "cell_type": "markdown",
   "metadata": {},
   "source": [
    "### Question 8:\n",
    "\n",
    "Create a class *Sports*, which is initialized with the number of players required to play that sport and the country in which it is the national sport. Define an instance method to print all the information. Define two other classes, '*Cricket*' and '*Basketball*' that inherits the class sports and display all the information.\n",
    "\n",
    "#### Expected Output:\n",
    "\n",
    "Cricket:  National Sport of England, and it requires 11 players from each team.\n",
    "<br>Basketball:  National Sport of Lithuania, and it requires 5 players from each team."
   ]
  },
  {
   "cell_type": "code",
   "execution_count": 6,
   "metadata": {},
   "outputs": [
    {
     "name": "stdout",
     "output_type": "stream",
     "text": [
      "Cricket:  National Sport of England, and it requires 11 players from each team.\n",
      "Basketball:  National Sport of Lithuania, and it requires 5 players from each team.\n"
     ]
    }
   ],
   "source": [
    "class Sports:\n",
    "    def __init__(self, country, players):\n",
    "        self.national_country = country\n",
    "        self.no_of_players = players\n",
    "        \n",
    "    def print_info(self):\n",
    "        return(f\"National Sport of {self.national_country}, and it requires {self.no_of_players} players from each team.\")\n",
    "        \n",
    "class Cricket(Sports):\n",
    "    pass\n",
    "\n",
    "class Basketball(Sports):\n",
    "    pass\n",
    "\n",
    "sport1 = Cricket('England', 11)\n",
    "print('Cricket: ', sport1.print_info())\n",
    "\n",
    "sport2 = Basketball('Lithuania', 5)\n",
    "print('Basketball: ', sport2.print_info())"
   ]
  },
  {
   "cell_type": "markdown",
   "metadata": {},
   "source": [
    "### Question 9:\n",
    "\n",
    "Create a class *Vehicle*, which is initialized with the type of vehicle (i.e., 2-wheeler or 4-wheeler), name, and mileage. Define an instance method '*print_info*' to print all these pieces of information. Create two other classes, '*Bike*' and '*Bus*,' that inherits the *Vehicle* class. Using a class attribute display the color of both the child classes as *Red*.\n",
    "\n",
    "#### Expected Output:\n",
    "\n",
    "KTM Duke is a 2-Wheeler vehicle, and the color of the vehicle is Red.\n",
    "<br>Volkswagen Polo is a 4-Wheeler vehicle, and the color of the vehicle is Red."
   ]
  },
  {
   "cell_type": "code",
   "execution_count": 7,
   "metadata": {},
   "outputs": [
    {
     "name": "stdout",
     "output_type": "stream",
     "text": [
      "KTM Duke is a 2-Wheeler vehicle, and the color of the vehicle is Red.\n",
      "Volkswagen Polo is a 4-Wheeler vehicle, and the color of the vehicle is Red.\n"
     ]
    }
   ],
   "source": [
    "class Vehicle:\n",
    "    color = \"Red\"\n",
    "\n",
    "    def __init__(self, type_of_vehicle, name, mileage):\n",
    "        self.type_of_vehicle = type_of_vehicle\n",
    "        self.name = name\n",
    "        self.mileage = mileage\n",
    "        \n",
    "    def print_info(self):\n",
    "        print(f'{self.name} is a {self.type_of_vehicle} vehicle, and the color of the vehicle is {self.color}.')\n",
    "\n",
    "class Bike(Vehicle):\n",
    "    pass\n",
    "\n",
    "class Car(Vehicle):\n",
    "    pass\n",
    "\n",
    "vehicle1 = Bike(\"2-Wheeler\", \"KTM Duke\", 35)\n",
    "vehicle1.print_info()\n",
    "\n",
    "vehicle2 = Car(\"4-Wheeler\", \"Volkswagen Polo\", 18)\n",
    "vehicle2.print_info()"
   ]
  },
  {
   "cell_type": "markdown",
   "metadata": {},
   "source": [
    "### Question 10:\n",
    "\n",
    "Create a python class *airport_taxi*, which is initialized with a kilometer. Define an instance method that calculates the trip's fare. If the number of kilometers is greater than 50, the fare is Rs.6 per kilometer. Otherwise, the fare is Rs.per kilometer. Create another class, *uber_taxi*, which inherits the *airport_taxi* class. But the fare of uber_taxi is Rs.5.5 per kilometer irrespective of the number of kilometers. Print the fare for both the taxi if the passenger is traveling 40 km.\n",
    "\n",
    "#### Expected Output:\n",
    "\n",
    "200\n",
    "<br>220.0"
   ]
  },
  {
   "cell_type": "code",
   "execution_count": 8,
   "metadata": {},
   "outputs": [
    {
     "name": "stdout",
     "output_type": "stream",
     "text": [
      "200\n",
      "220.0\n"
     ]
    }
   ],
   "source": [
    "class airport_taxi:\n",
    "    def __init__(self, km):\n",
    "        self.km = km\n",
    "        \n",
    "    def price(self):\n",
    "        if self.km > 50:\n",
    "            fare = self.km * 6\n",
    "            return fare\n",
    "        else:\n",
    "            fare = self.km * 5\n",
    "            return fare\n",
    "\n",
    "class uber_taxi(airport_taxi):\n",
    "    def price(self):\n",
    "        fare = self.km * 5.5\n",
    "        return fare\n",
    "\n",
    "trip_1 = airport_taxi(40)\n",
    "print(trip_1.price())\n",
    "\n",
    "trip_2 = uber_taxi(40)\n",
    "print(trip_2.price())"
   ]
  }
 ],
 "metadata": {
  "kernelspec": {
   "display_name": "Python 3",
   "language": "python",
   "name": "python3"
  },
  "language_info": {
   "codemirror_mode": {
    "name": "ipython",
    "version": 3
   },
   "file_extension": ".py",
   "mimetype": "text/x-python",
   "name": "python",
   "nbconvert_exporter": "python",
   "pygments_lexer": "ipython3",
   "version": "3.8.3"
  }
 },
 "nbformat": 4,
 "nbformat_minor": 4
}
