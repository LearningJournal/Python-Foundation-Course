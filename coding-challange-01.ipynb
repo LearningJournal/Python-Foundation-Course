{
 "cells": [
  {
   "cell_type": "markdown",
   "metadata": {},
   "source": [
    "# Coding Challange - 01"
   ]
  },
  {
   "cell_type": "markdown",
   "metadata": {},
   "source": [
    "### Question 1:\n",
    "\n",
    "Print the following tuple in reverse order.\n",
    "\n",
    "tuple_1 = (22, 65, 12, 54)\n",
    "\n",
    "#### Expected Output:\n",
    "\n",
    "(54, 12, 65, 22)"
   ]
  },
  {
   "cell_type": "code",
   "execution_count": null,
   "metadata": {},
   "outputs": [],
   "source": []
  },
  {
   "cell_type": "markdown",
   "metadata": {},
   "source": [
    "### Question 2:\n",
    "\n",
    "Access the name 'David' from the list given below.\n",
    "\n",
    "myList = [(2, 14, 'David'), [2, 7], 'Shaun']\n",
    "\n",
    "##### Expected Output:\n",
    "\n",
    "'David'"
   ]
  },
  {
   "cell_type": "code",
   "execution_count": null,
   "metadata": {},
   "outputs": [],
   "source": []
  },
  {
   "cell_type": "markdown",
   "metadata": {},
   "source": [
    "### Question 3:\n",
    "\n",
    "We have a set and a dictionary given below. Print the set once again after adding the keys of the dictionary to the set. The order of the expected output may vary as it is a set.\n",
    "\n",
    "mySet = {2, 4, 6}\n",
    "\n",
    "myDict = {'A':'John', 'B':'Emma', 'C':'Sam'}\n",
    "\n",
    "##### Expected Output:\n",
    "\n",
    "{2, 4, 6, 'A', 'C', 'B'}"
   ]
  },
  {
   "cell_type": "code",
   "execution_count": null,
   "metadata": {},
   "outputs": [],
   "source": []
  },
  {
   "cell_type": "markdown",
   "metadata": {},
   "source": [
    "### Question 4:\n",
    "We have two sets given below. Print all the items from these sets after removing the duplicates.\n",
    "\n",
    "set_1 = {2, 4, 6, 8}\n",
    "<br>set_2 = {6, 8, 10, 12}\n",
    "\n",
    "#### Expected Output:\n",
    "\n",
    "{2, 4, 6, 8, 10, 12}"
   ]
  },
  {
   "cell_type": "code",
   "execution_count": null,
   "metadata": {},
   "outputs": [],
   "source": []
  },
  {
   "cell_type": "markdown",
   "metadata": {},
   "source": [
    "### Question 5:\n",
    "Write a Python program to print the first and the last second of the day.\n",
    "\n",
    "#### Expected Output:\n",
    "\n",
    "First Second:  00:00:00\n",
    "<br>Last Second:  23:59:59.999999"
   ]
  },
  {
   "cell_type": "code",
   "execution_count": null,
   "metadata": {},
   "outputs": [],
   "source": []
  },
  {
   "cell_type": "markdown",
   "metadata": {},
   "source": [
    "### Question 6:\n",
    "\n",
    "Print the total number of digits in the number given below.\n",
    "\n",
    "num = 8842\n",
    "\n",
    "#### Expected Output:\n",
    "\n",
    "Total digits are:  4"
   ]
  },
  {
   "cell_type": "code",
   "execution_count": null,
   "metadata": {},
   "outputs": [],
   "source": []
  },
  {
   "cell_type": "markdown",
   "metadata": {},
   "source": [
    "### Question 7:\n",
    "\n",
    "We have a list of lists that contains several numbers. I want you to print the list whose sum of elements is the highest and also the lowest.\n",
    "\n",
    "num_list = [[2, 8, 11], [4, 5, 7, 12], [8, 9, 10, 11], [19, 13, 7], [2, 5, 16]]\n",
    "\n",
    "#### Expected Output:\n",
    "\n",
    "The list with the maximum sum of elements:  [19, 13, 7]\n",
    "<br>The list with the minimum sum of elements:  [2, 8, 11]"
   ]
  },
  {
   "cell_type": "code",
   "execution_count": null,
   "metadata": {},
   "outputs": [],
   "source": []
  },
  {
   "cell_type": "markdown",
   "metadata": {},
   "source": [
    "### Question 8:\n",
    "\n",
    "We have a string that contains the names of different fruits. I want you to convert this string into multiple substrings where each substring includes one fruit's name.\n",
    "\n",
    "fruits_string = \" Apple, Banana, Mango, Kiwi, Guava, Grapes, Pomegranate, Orange, Watermelon\"\n",
    "\n",
    "#### Expected Output:\n",
    "\n",
    " Apple\n",
    " <br>Banana\n",
    " <br>Mango\n",
    " <br>Kiwi\n",
    " <br>Guava\n",
    " <br>Grapes\n",
    " <br>Pomegranate\n",
    " <br>Orange\n",
    " <br>Watermelon"
   ]
  },
  {
   "cell_type": "code",
   "execution_count": null,
   "metadata": {},
   "outputs": [],
   "source": []
  },
  {
   "cell_type": "markdown",
   "metadata": {},
   "source": [
    "### Question 9:\n",
    "\n",
    "Write a program to reverse words in a string.\n",
    "\n",
    "sample_text = \"Python is a high-level and general-purpose programming language\"\n",
    "\n",
    "#### Expected Output:\n",
    "\n",
    "language programming general-purpose and high-level a is Python"
   ]
  },
  {
   "cell_type": "code",
   "execution_count": null,
   "metadata": {},
   "outputs": [],
   "source": []
  },
  {
   "cell_type": "markdown",
   "metadata": {},
   "source": [
    "### Question 10:\n",
    "\n",
    "Given below is the height (in cm) of the top 10 students in a class. Print the heights of the top 3 students from the given list.\n",
    "\n",
    "heights = [177, 160, 171, 163, 168,  175, 176, 183, 162, 170]\n",
    "\n",
    "#### Expected Output:\n",
    "\n",
    "Top Three Heights:  [183, 177, 176]"
   ]
  },
  {
   "cell_type": "code",
   "execution_count": null,
   "metadata": {},
   "outputs": [],
   "source": []
  }
 ],
 "metadata": {
  "kernelspec": {
   "display_name": "Python 3",
   "language": "python",
   "name": "python3"
  },
  "language_info": {
   "codemirror_mode": {
    "name": "ipython",
    "version": 3
   },
   "file_extension": ".py",
   "mimetype": "text/x-python",
   "name": "python",
   "nbconvert_exporter": "python",
   "pygments_lexer": "ipython3",
   "version": "3.8.3"
  }
 },
 "nbformat": 4,
 "nbformat_minor": 4
}
