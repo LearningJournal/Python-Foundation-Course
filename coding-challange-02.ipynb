{
 "cells": [
  {
   "cell_type": "markdown",
   "metadata": {},
   "source": [
    "# Coding Challange - 02"
   ]
  },
  {
   "cell_type": "markdown",
   "metadata": {},
   "source": [
    "### Question 1:\n",
    "\n",
    "We have two lists of numbers given below. I want you to create a third list by picking an odd-indexed element from the first list and even-indexed elements from the second list.\n",
    "\n",
    "list_1 = [5, 10, 15, 20, 25, 30, 35]\n",
    "<br>list_2 = [7, 14, 21, 28, 35, 42, 49]\n",
    "\n",
    "#### Expected Output:\n",
    "\n",
    "[10, 20, 30, 7, 21, 35, 49]"
   ]
  },
  {
   "cell_type": "code",
   "execution_count": null,
   "metadata": {},
   "outputs": [],
   "source": []
  },
  {
   "cell_type": "markdown",
   "metadata": {},
   "source": [
    "### Question 2:\n",
    "\n",
    "You have two dictionaries, with each of them containing several letters associated with certain values. \n",
    "\n",
    "num_1 = {'a' : 5,\n",
    "        's' : 7,\n",
    "        'x' : 11,\n",
    "        'm' : 12,\n",
    "        'o' : 8}\n",
    "\n",
    "num_2 = {'r' : 12,\n",
    "        'x' : 9,\n",
    "        'n' : 8,\n",
    "        'm' : 12,\n",
    "        'q' : 10}\n",
    "\n",
    "I want you to perform the below-mentioned operations on these dictionaries:\n",
    "\n",
    "\t1. Print out the letters which are common to both these dictionaries.\n",
    "\t2. Print out the (key, value) pair, which is common to both these dictionaries.\n",
    "\t3. Print out all the letters which have occurred only once in these dictionaries.\n",
    "\t4. Print out the letters in num_1 that are not present in num_2.\n",
    "\t5. Print out a new dictionary num_3, which contains unique letters of num_1 from the previous output with their \n",
    "       associated values.\n",
    "\n",
    "#### Expected Output:\n",
    "\n",
    "\t1. {'x', 'm'}\n",
    "    2. {('m', 12)}\n",
    "    3. {'o', 'a', 'n', 'q', 'r', 's'}\n",
    "    4. {'o', 'a', 's'}\n",
    "    5. {'o': 8, 'a': 5, 's': 7}"
   ]
  },
  {
   "cell_type": "code",
   "execution_count": null,
   "metadata": {},
   "outputs": [],
   "source": []
  },
  {
   "cell_type": "markdown",
   "metadata": {},
   "source": [
    "### Question 3:\n",
    "\n",
    "Find out the number of letters and digits from the given alpha-numeric text.\n",
    "\n",
    "sample_text = \"Learning Journal 2020\"\n",
    "\n",
    "#### Expected Output:\n",
    "\n",
    "Number of Letters:  15\n",
    "<br>Number of Digits:  4"
   ]
  },
  {
   "cell_type": "code",
   "execution_count": null,
   "metadata": {},
   "outputs": [],
   "source": []
  },
  {
   "cell_type": "markdown",
   "metadata": {},
   "source": [
    "### Question 4:\n",
    "\n",
    "We have a list given below. Add an item 200 to the list, after the item 100.\n",
    "\n",
    "myList = [2, 8, [10, 20, [40, 60, [90, 100], 30, 70], 80], 50]\n",
    "\n",
    "#### Expected Output:\n",
    "\n",
    "[2, 8, [10, 20, [40, 60, [90, 100, 200], 30, 70], 80], 50]"
   ]
  },
  {
   "cell_type": "code",
   "execution_count": null,
   "metadata": {},
   "outputs": [],
   "source": []
  },
  {
   "cell_type": "markdown",
   "metadata": {},
   "source": [
    "### Question 5:\n",
    "\n",
    "We have two sets given below. Print the first set again after removing the elements common to both of these sets.\n",
    "\n",
    "set_1 = {2, 8, 19, 13, 24, 55, 48, 93}\n",
    "<br>set_2 = {7, 11, 55, 84, 8, 65, 73, 13}\n",
    "\n",
    "#### Expected Output:\n",
    "\n",
    "{2, 48, 19, 24, 93}"
   ]
  },
  {
   "cell_type": "code",
   "execution_count": null,
   "metadata": {},
   "outputs": [],
   "source": []
  },
  {
   "cell_type": "markdown",
   "metadata": {},
   "source": [
    "### Question 6:\n",
    "\n",
    "Print all the prime numbers between the given range.\n",
    "\n",
    "start = 20\n",
    "<br>end = 60\n",
    "\n",
    "#### Expected Output:\n",
    "\n",
    "Prime numbers between 20 and 60 are: \n",
    "23\n",
    "<br>29\n",
    "<br>31\n",
    "<br>37\n",
    "<br>41\n",
    "<br>43\n",
    "<br>47\n",
    "<br>53\n",
    "<br>59"
   ]
  },
  {
   "cell_type": "code",
   "execution_count": null,
   "metadata": {},
   "outputs": [],
   "source": []
  },
  {
   "cell_type": "markdown",
   "metadata": {},
   "source": [
    "### Question 7:\n",
    "\n",
    "Here we have a list of 3 letters. I want you to concatenate this list with another list of numbers whose range varies from 1 to 3 (3 is included).\n",
    "\n",
    "letters_list = ['H', 'R', 'S']\n",
    "\n",
    "#### Expected Output:\n",
    "\n",
    "['H1', 'R1', 'S1', 'H2', 'R2', 'S2', 'H3', 'R3', 'S3']"
   ]
  },
  {
   "cell_type": "code",
   "execution_count": null,
   "metadata": {},
   "outputs": [],
   "source": []
  },
  {
   "cell_type": "markdown",
   "metadata": {},
   "source": [
    "### Question 8:\n",
    "\n",
    "Print all the numbers between 1 and 100 (both being included) that are multiples of 3 and 5 both.\n",
    "\n",
    "#### Expected Output:\n",
    "\n",
    "Multiples of 3 and 5: [15, 30, 45, 60, 75, 90]"
   ]
  },
  {
   "cell_type": "code",
   "execution_count": null,
   "metadata": {},
   "outputs": [],
   "source": []
  },
  {
   "cell_type": "markdown",
   "metadata": {},
   "source": [
    "### Question 9:\n",
    "\n",
    "Here we have a poem by Walt Whitman. I want you to print this poem once again after removing all the vowels from them.\n",
    "\n",
    "poem = \"Centre of equal daughters, equal sons,\\\n",
    "All, all alike endeared, grown, ungrown, young or old,\\\n",
    "Strong, ample, fair, enduring, capable, rich,\\\n",
    "Perennial with the Earth, with Freedom, Law and Love,\\\n",
    "A grand, sane, towering, seated Mother,\\\n",
    "Chaired in the adamant of Time.\"\n",
    "\n",
    "#### Expected Output:\n",
    "\n",
    "'Cntr f ql dghtrs, ql sns,All, ll lk ndr’d, grwn, ngrwn, yng r ld,Strng, mpl, fr, ndrng, cpbl, rch,Prnnl wth th Erth, wth Frdm, Lw nd Lv,A grnd, sn, twrng, std Mthr,Chr’d n th dmnt f Tm.'"
   ]
  },
  {
   "cell_type": "code",
   "execution_count": null,
   "metadata": {},
   "outputs": [],
   "source": []
  },
  {
   "cell_type": "markdown",
   "metadata": {},
   "source": [
    "### Question 10:\n",
    "\n",
    "Here we have some information about Python programming extracted from Wikipedia. Find all the occurrences of the word 'python' in the given python_info, ignoring the case.\n",
    "\n",
    "python_info = \"Python is an interpreted, high-level, and general-purpose programming language.\\\n",
    "Python is dynamically typed and garbage-collected.\\\n",
    "Python was created in the late 1980s as a successor to the ABC language, Python 2.0.\\\n",
    "Python 3.0 was released in 2008.\\\n",
    "A non-profit organization, the Python Software Foundation, manages and directs resources for Python development.\"\n",
    "\n",
    "#### Expected Output:\n",
    "\n",
    "The 'Python' count in python_info is: 7"
   ]
  },
  {
   "cell_type": "code",
   "execution_count": null,
   "metadata": {},
   "outputs": [],
   "source": []
  }
 ],
 "metadata": {
  "kernelspec": {
   "display_name": "Python 3",
   "language": "python",
   "name": "python3"
  },
  "language_info": {
   "codemirror_mode": {
    "name": "ipython",
    "version": 3
   },
   "file_extension": ".py",
   "mimetype": "text/x-python",
   "name": "python",
   "nbconvert_exporter": "python",
   "pygments_lexer": "ipython3",
   "version": "3.8.3"
  }
 },
 "nbformat": 4,
 "nbformat_minor": 4
}
