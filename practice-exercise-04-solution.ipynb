{
 "cells": [
  {
   "cell_type": "markdown",
   "metadata": {},
   "source": [
    "# Practice Exercise - 04 - Solution"
   ]
  },
  {
   "cell_type": "markdown",
   "metadata": {},
   "source": [
    "### Question 1:\n",
    "\n",
    "We have two sets given below. Print the set of elements that are present in either set1 or set2 but not both.\n",
    "\n",
    "set1 = {1, 2, 3, 4, 5}\n",
    "<br>set2 = {4, 5, 6, 7}\n",
    "\n",
    "#### Expected Output:\n",
    "\n",
    "{1, 2, 3, 6, 7}"
   ]
  },
  {
   "cell_type": "code",
   "execution_count": 1,
   "metadata": {},
   "outputs": [
    {
     "data": {
      "text/plain": [
       "{1, 2, 3, 6, 7}"
      ]
     },
     "execution_count": 1,
     "metadata": {},
     "output_type": "execute_result"
    }
   ],
   "source": [
    "set1 = {1, 2, 3, 4, 5}\n",
    "set2 = {4, 5, 6, 7}\n",
    "\n",
    "set1 ^ set2"
   ]
  },
  {
   "cell_type": "markdown",
   "metadata": {},
   "source": [
    "### Question 2:\n",
    "\n",
    "Print all the keys of the dictionary given below.\n",
    "\n",
    "myDict = {1:'One', 2:'Two', 3:'Three'}\n",
    "\n",
    "#### Expected Output:\n",
    "\n",
    "dict_keys([1, 2, 3])"
   ]
  },
  {
   "cell_type": "code",
   "execution_count": 2,
   "metadata": {},
   "outputs": [
    {
     "data": {
      "text/plain": [
       "dict_keys([1, 2, 3])"
      ]
     },
     "execution_count": 2,
     "metadata": {},
     "output_type": "execute_result"
    }
   ],
   "source": [
    "myDict = {1:'One', 2:'Two', 3:'Three'}\n",
    "\n",
    "myDict.keys()"
   ]
  },
  {
   "cell_type": "markdown",
   "metadata": {},
   "source": [
    "### Question 3:\n",
    "\n",
    "We have two sets given below. Print the elements common to both the sets.\n",
    "\n",
    "set1 = {1, 2, 3, 4, 5}\n",
    "<br>set2 = {4, 5, 6, 7}\n",
    "\n",
    "#### Expected Output:\n",
    "\n",
    "{4, 5}"
   ]
  },
  {
   "cell_type": "code",
   "execution_count": 3,
   "metadata": {},
   "outputs": [
    {
     "data": {
      "text/plain": [
       "{4, 5}"
      ]
     },
     "execution_count": 3,
     "metadata": {},
     "output_type": "execute_result"
    }
   ],
   "source": [
    "set1 = {1, 2, 3, 4, 5}\n",
    "set2 = {4, 5, 6, 7}\n",
    "\n",
    "set1 & set2"
   ]
  },
  {
   "cell_type": "markdown",
   "metadata": {},
   "source": [
    "### Question 4:\n",
    "\n",
    "We have a dictionary given below. Delete the item with key '3,' and add an item with key '7' and value 'Black.'\n",
    "\n",
    "color = {1:'Red', 2:'Orange', 3:'White', 4:'Brown', 5:'Yellow'}\n",
    "\n",
    "#### Expected Output:\n",
    "\n",
    "{1: 'Red', 2: 'Orange', 4: 'Brown', 5: 'Yellow', 7: 'Black'}"
   ]
  },
  {
   "cell_type": "code",
   "execution_count": 4,
   "metadata": {},
   "outputs": [
    {
     "data": {
      "text/plain": [
       "{1: 'Red', 2: 'Orange', 4: 'Brown', 5: 'Yellow', 7: 'Black'}"
      ]
     },
     "execution_count": 4,
     "metadata": {},
     "output_type": "execute_result"
    }
   ],
   "source": [
    "color = {1:'Red', 2:'Orange', 3:'White', 4:'Brown', 5:'Yellow'}\n",
    "\n",
    "del color[3]\n",
    "\n",
    "color[7] = 'Black'\n",
    "\n",
    "color"
   ]
  },
  {
   "cell_type": "markdown",
   "metadata": {},
   "source": [
    "### Question 5:\n",
    "\n",
    "We have two sets given below. Check if set1 is a subset of set2.\n",
    "\n",
    "set1 = {2, 4, 6}\n",
    "<br>set2 = {2, 4, 6, 8, 10}\n",
    "\n",
    "#### Expected Output:\n",
    "\n",
    "True"
   ]
  },
  {
   "cell_type": "code",
   "execution_count": 5,
   "metadata": {},
   "outputs": [
    {
     "data": {
      "text/plain": [
       "True"
      ]
     },
     "execution_count": 5,
     "metadata": {},
     "output_type": "execute_result"
    }
   ],
   "source": [
    "set1 = {2, 4, 6}\n",
    "set2 = {2, 4, 6, 8, 10}\n",
    "\n",
    "set1 <= set2"
   ]
  },
  {
   "cell_type": "markdown",
   "metadata": {},
   "source": [
    "### Question 6:\n",
    "\n",
    "Merge the two dictionaries given below.\n",
    "\n",
    "myDict1 = {1:'One', 2:'Two', 3:'Three'}\n",
    "<br>myDict2 = {4:'Four', 5:'Five', 6:'Six'}\n",
    "\n",
    "#### Expected Output:\n",
    "\n",
    "{1: 'One', 2: 'Two', 3: 'Three', 4: 'Four', 5: 'Five', 6: 'Six'}"
   ]
  },
  {
   "cell_type": "code",
   "execution_count": 6,
   "metadata": {},
   "outputs": [
    {
     "data": {
      "text/plain": [
       "{1: 'One', 2: 'Two', 3: 'Three', 4: 'Four', 5: 'Five', 6: 'Six'}"
      ]
     },
     "execution_count": 6,
     "metadata": {},
     "output_type": "execute_result"
    }
   ],
   "source": [
    "myDict1 = {1:'One', 2:'Two', 3:'Three'}\n",
    "myDict2 = {4:'Four', 5:'Five', 6:'Six'}\n",
    "\n",
    "myDict1.update(myDict2)\n",
    "\n",
    "myDict1"
   ]
  },
  {
   "cell_type": "markdown",
   "metadata": {},
   "source": [
    "### Question 7:\n",
    "\n",
    "We have two sets given below. Print the elements that are present in set1 but not in set2.\n",
    "\n",
    "set1 = {2, 3, 4, 5}\n",
    "<br>set2 = {2, 4, 6, 8}\n",
    "\n",
    "#### Expected Solution:\n",
    "\n",
    "{3, 5}"
   ]
  },
  {
   "cell_type": "code",
   "execution_count": 7,
   "metadata": {},
   "outputs": [
    {
     "data": {
      "text/plain": [
       "{3, 5}"
      ]
     },
     "execution_count": 7,
     "metadata": {},
     "output_type": "execute_result"
    }
   ],
   "source": [
    "set1 = {2, 3, 4, 5}\n",
    "set2 = {2, 4, 6, 8}\n",
    "\n",
    "set1 - set2"
   ]
  },
  {
   "cell_type": "markdown",
   "metadata": {},
   "source": [
    "### Question 8:\n",
    "\n",
    "We have a dictionary given below. Copy this dictionary into another dictionary 'replica,' and change the value of the key 103 to 'Sally' in the replica dictionary only. Finally, print both the dictionaries.\n",
    "\n",
    "student_details = {101:'Judy', 102:'Victor', 103:'Sam'}\n",
    "\n",
    "#### Expected Output:\n",
    "\n",
    "{101: 'Judy', 102: 'Victor', 103: 'Sam'}\n",
    "<br>{101: 'Judy', 102: 'Victor', 103: 'Sally'}"
   ]
  },
  {
   "cell_type": "code",
   "execution_count": 8,
   "metadata": {},
   "outputs": [
    {
     "name": "stdout",
     "output_type": "stream",
     "text": [
      "{101: 'Judy', 102: 'Victor', 103: 'Sam'}\n",
      "{101: 'Judy', 102: 'Victor', 103: 'Sally'}\n"
     ]
    }
   ],
   "source": [
    "import copy\n",
    "student_details = {101:'Judy', 102:'Victor', 103:'Sam'}\n",
    "\n",
    "replica = copy.deepcopy(student_details)\n",
    "replica[103] = 'Sally'\n",
    "\n",
    "print(student_details)\n",
    "print(replica)"
   ]
  },
  {
   "cell_type": "markdown",
   "metadata": {},
   "source": [
    "### Question 9:\n",
    "\n",
    "Remove all the duplicate items from the tuple given below.\n",
    "\n",
    "myTuple = ('Red', 'Blue', 'Green', 'Red', 'Orange', 'Green')\n",
    "\n",
    "#### Expected Output:\n",
    "\n",
    "{'Blue', 'Green', 'Orange', 'Red'}"
   ]
  },
  {
   "cell_type": "code",
   "execution_count": 9,
   "metadata": {},
   "outputs": [
    {
     "data": {
      "text/plain": [
       "{'Blue', 'Green', 'Orange', 'Red'}"
      ]
     },
     "execution_count": 9,
     "metadata": {},
     "output_type": "execute_result"
    }
   ],
   "source": [
    "myTuple = ('Red', 'Blue', 'Green', 'Red', 'Orange', 'Green')\n",
    "\n",
    "mySet = set(myTuple)\n",
    "\n",
    "mySet"
   ]
  },
  {
   "cell_type": "markdown",
   "metadata": {},
   "source": [
    "### Question 10:\n",
    "\n",
    "Print the number and the cube of that number in a dictionary from 0 to 5.\n",
    "\n",
    "#### Expected Output:\n",
    "\n",
    "{0: 0, 1: 1, 2: 8, 3: 27, 4: 64, 5: 125}"
   ]
  },
  {
   "cell_type": "code",
   "execution_count": 10,
   "metadata": {},
   "outputs": [
    {
     "name": "stdout",
     "output_type": "stream",
     "text": [
      "{0: 0, 1: 1, 2: 8, 3: 27, 4: 64, 5: 125}\n"
     ]
    }
   ],
   "source": [
    "myDict = {x: x**3 for x in range(6)}\n",
    "\n",
    "print(myDict)"
   ]
  }
 ],
 "metadata": {
  "kernelspec": {
   "display_name": "Python 3",
   "language": "python",
   "name": "python3"
  },
  "language_info": {
   "codemirror_mode": {
    "name": "ipython",
    "version": 3
   },
   "file_extension": ".py",
   "mimetype": "text/x-python",
   "name": "python",
   "nbconvert_exporter": "python",
   "pygments_lexer": "ipython3",
   "version": "3.8.3"
  }
 },
 "nbformat": 4,
 "nbformat_minor": 4
}
