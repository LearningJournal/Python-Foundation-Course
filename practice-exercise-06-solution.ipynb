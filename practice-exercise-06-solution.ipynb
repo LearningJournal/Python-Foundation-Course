{
 "cells": [
  {
   "cell_type": "markdown",
   "metadata": {},
   "source": [
    "# Practice Exercise - 06 - Solution"
   ]
  },
  {
   "cell_type": "markdown",
   "metadata": {},
   "source": [
    "### Question 1:\n",
    "\n",
    "Write a Python function to check whether the number given below is present in between 5 to 10 (both included) or not.\n",
    "\n",
    "num = 7\n",
    "\n",
    "#### Expected Output:\n",
    "\n",
    "7 is present between 5-10."
   ]
  },
  {
   "cell_type": "code",
   "execution_count": 1,
   "metadata": {},
   "outputs": [
    {
     "name": "stdout",
     "output_type": "stream",
     "text": [
      "7 is present between 5-10.\n"
     ]
    }
   ],
   "source": [
    "num = 7\n",
    "\n",
    "def num_range_check(x):\n",
    "    \n",
    "    if x in range(5, 11):\n",
    "        print(f'{str(x)} is present between 5-10.')\n",
    "    else :\n",
    "        print(f'{str(x)} is not present between 5-10.')\n",
    "        \n",
    "num_range_check(num)"
   ]
  },
  {
   "cell_type": "markdown",
   "metadata": {},
   "source": [
    "### Question 2:\n",
    "\n",
    "Write a Python function that accepts two arguments and calculates the addition and subtraction of it. Also, print both the arithmetic results in a single return call. \n",
    "\n",
    "#### Expected Output:\n",
    "\n",
    "(Addition, Substraction) :  (50, 30)"
   ]
  },
  {
   "cell_type": "code",
   "execution_count": 2,
   "metadata": {},
   "outputs": [
    {
     "name": "stdout",
     "output_type": "stream",
     "text": [
      "(Addition, Substraction) :  (50, 30)\n"
     ]
    }
   ],
   "source": [
    "def arithematic_operations(x, y):\n",
    "    return x + y, x - y\n",
    "\n",
    "result = arithematic_operations(40, 10)\n",
    "print(\"(Addition, Substraction) : \", result)"
   ]
  },
  {
   "cell_type": "markdown",
   "metadata": {},
   "source": [
    "### Question 3:\n",
    "\n",
    "Create a function in Python that displays the name and results of a candidate. The function should accept the candidate's name and his/her results as \"Pass/Fail.\" If the result is missing in the function call, show it as \"Pass.\"\n",
    "\n",
    "#### Expected Output:\n",
    "\n",
    "Sam is Pass.\n",
    "<br>Judy is Fail."
   ]
  },
  {
   "cell_type": "code",
   "execution_count": 3,
   "metadata": {},
   "outputs": [
    {
     "name": "stdout",
     "output_type": "stream",
     "text": [
      "Sam is Pass.\n",
      "Judy is Fail.\n"
     ]
    }
   ],
   "source": [
    "def exam_results(name, results = \"Pass\"):\n",
    "    print(f'{name} is {results}.')\n",
    "    \n",
    "exam_results(\"Sam\")\n",
    "exam_results(\"Judy\", \"Fail\")"
   ]
  },
  {
   "cell_type": "markdown",
   "metadata": {},
   "source": [
    "### Question 4:\n",
    "\n",
    "We have a list of numbers given below. Write a Python function to print all the odd-indexed items from the list.\n",
    "\n",
    "n = [2, 3, 5, 6, 8, 9]\n",
    "\n",
    "#### Expected Output:\n",
    "\n",
    "(3, 6, 9)"
   ]
  },
  {
   "cell_type": "code",
   "execution_count": 4,
   "metadata": {},
   "outputs": [
    {
     "name": "stdout",
     "output_type": "stream",
     "text": [
      "(3, 6, 9)\n"
     ]
    }
   ],
   "source": [
    "n = [2, 3, 5, 6, 8, 9]\n",
    "\n",
    "def odd_indexed(*num):    \n",
    "    print(num[1::2])\n",
    "\n",
    "odd_indexed(*n)"
   ]
  },
  {
   "cell_type": "markdown",
   "metadata": {},
   "source": [
    "### Question 5:\n",
    "\n",
    "We have the names of six countries given below. Write a Python function to print all the countries that start with the letter 'A.'\n",
    "\n",
    "'Austraiia', 'India', 'Austria', 'America', 'Russia', 'Iran'\n",
    "\n",
    "#### Expected Output:\n",
    "\n",
    "['Austraiia', 'Austria', 'America']"
   ]
  },
  {
   "cell_type": "code",
   "execution_count": 5,
   "metadata": {},
   "outputs": [
    {
     "name": "stdout",
     "output_type": "stream",
     "text": [
      "['Austraiia', 'Austria', 'America']\n"
     ]
    }
   ],
   "source": [
    "result = []\n",
    "\n",
    "def alphabet_check(*countries):\n",
    "    \n",
    "    for x in countries:\n",
    "        \n",
    "        if x.startswith('A'):\n",
    "            result.append(x)\n",
    "        else:\n",
    "            pass\n",
    "        \n",
    "alphabet_check('Austraiia', 'India', 'Austria', 'America', 'Russia', 'Iran')\n",
    "print(result)"
   ]
  },
  {
   "cell_type": "markdown",
   "metadata": {},
   "source": [
    "### Question 6:\n",
    "\n",
    "A list of tuples is given below, containing the candidate's name and their heights(in cm). Sort this list using Lambda functions according to the heights of the candidates.\n",
    "\n",
    "candidate_details = [('Harry', 168), ('Jhonny', 160), ('Brad', 178), ('Chris', 172)]\n",
    "\n",
    "#### Expected Output:\n",
    "\n",
    "[('Jhonny', 160), ('Harry', 168), ('Chris', 172), ('Brad', 178)]"
   ]
  },
  {
   "cell_type": "code",
   "execution_count": 6,
   "metadata": {},
   "outputs": [
    {
     "name": "stdout",
     "output_type": "stream",
     "text": [
      "[('Jhonny', 160), ('Harry', 168), ('Chris', 172), ('Brad', 178)]\n"
     ]
    }
   ],
   "source": [
    "candidate_details = [('Harry', 168), ('Jhonny', 160), ('Brad', 178), ('Chris', 172)]\n",
    "\n",
    "candidate_details.sort(key = lambda x: x[1])\n",
    "\n",
    "print(candidate_details)"
   ]
  },
  {
   "cell_type": "markdown",
   "metadata": {},
   "source": [
    "### Question 7:\n",
    "\n",
    "Write a Python function to find 'Mall' from the dictionary 'map_details' given below.\n",
    "\n",
    "map_details = {101:'Park', 102:'Zoo', 103:'Mall'}\n",
    "\n",
    "#### Expected Output:\n",
    "\n",
    "103"
   ]
  },
  {
   "cell_type": "code",
   "execution_count": 7,
   "metadata": {},
   "outputs": [
    {
     "name": "stdout",
     "output_type": "stream",
     "text": [
      "103\n"
     ]
    }
   ],
   "source": [
    "map_details = {'Park': 101, 'Zoo':102, 'Mall':103}\n",
    "\n",
    "def find(**dict_1):\n",
    "    print(dict_1['Mall'])\n",
    "    \n",
    "find(**map_details)"
   ]
  },
  {
   "cell_type": "markdown",
   "metadata": {},
   "source": [
    "### Question 8:\n",
    "\n",
    "Write a Python program to add the three lists given below using Python map and Lambda function.\n",
    "\n",
    "list_1 = [1, 5, 8]\n",
    "<br>list_2 = [3, 2, 5]\n",
    "<br>list_3 = [2, 3, 6]\n",
    "\n",
    "#### Expected Output:\n",
    "\n",
    "Resultant List: [6, 10, 19]"
   ]
  },
  {
   "cell_type": "code",
   "execution_count": 8,
   "metadata": {},
   "outputs": [
    {
     "name": "stdout",
     "output_type": "stream",
     "text": [
      "Resultant List: [6, 10, 19]\n"
     ]
    }
   ],
   "source": [
    "list_1 = [1, 5, 8]\n",
    "list_2 = [3, 2, 5]\n",
    "list_3 = [2, 3, 6]\n",
    "\n",
    "result = map(lambda x, y, z: x + y + z, list_1, list_2, list_3) \n",
    "\n",
    "print('Resultant List:', list(result))"
   ]
  },
  {
   "cell_type": "markdown",
   "metadata": {},
   "source": [
    "### Question 9:\n",
    "\n",
    "We have the marks of a student in each subject given below. Write a Python function that takes two parameters 'name' and 'subjects_marks.' Finally, print the student's name and all the subjects in which his/her marks are above 60. If the 'name' is not provided, print 'None.' \n",
    "\n",
    "Mathematics = 80, Physics = 58, Chemistry = 62, English = 72, Biology = 50\n",
    "\n",
    "#### Expected Output:\n",
    "\n",
    "Name:  Brandon - Subjects:  {'Chemistry', 'English', 'Mathematics'}"
   ]
  },
  {
   "cell_type": "code",
   "execution_count": 9,
   "metadata": {},
   "outputs": [
    {
     "name": "stdout",
     "output_type": "stream",
     "text": [
      "Name:  Brandon - Subjects:  {'Chemistry', 'English', 'Mathematics'}\n"
     ]
    }
   ],
   "source": [
    "def marks_check(name = None, **subject_marks):\n",
    "    res = {subject_name for (subject_name, marks) in subject_marks.items() if marks > 60}\n",
    "    print(\"Name: \", name,\"- Subjects: \", res)\n",
    "    \n",
    "marks_check(name = 'Brandon', Mathematics = 80, Physics = 58, Chemistry = 62, English = 72, Biology = 50)"
   ]
  },
  {
   "cell_type": "markdown",
   "metadata": {},
   "source": [
    "### Question 10:\n",
    "\n",
    "Using Lambda function, extract and print the year from the datetime object given below.\n",
    "\n",
    "given_date = datetime(2008, 6, 12, 10, 30, 0)\n",
    "\n",
    "#### Expected Output:\n",
    "\n",
    "2008"
   ]
  },
  {
   "cell_type": "code",
   "execution_count": 10,
   "metadata": {},
   "outputs": [
    {
     "name": "stdout",
     "output_type": "stream",
     "text": [
      "2008\n"
     ]
    }
   ],
   "source": [
    "from datetime import datetime\n",
    "\n",
    "given_date = datetime(2008, 6, 12, 10, 30, 0)\n",
    "\n",
    "year = lambda x : x.year\n",
    "\n",
    "print(year(given_date))"
   ]
  }
 ],
 "metadata": {
  "kernelspec": {
   "display_name": "Python 3",
   "language": "python",
   "name": "python3"
  },
  "language_info": {
   "codemirror_mode": {
    "name": "ipython",
    "version": 3
   },
   "file_extension": ".py",
   "mimetype": "text/x-python",
   "name": "python",
   "nbconvert_exporter": "python",
   "pygments_lexer": "ipython3",
   "version": "3.8.3"
  }
 },
 "nbformat": 4,
 "nbformat_minor": 4
}
