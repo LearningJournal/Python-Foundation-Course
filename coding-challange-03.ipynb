{
 "cells": [
  {
   "cell_type": "markdown",
   "metadata": {},
   "source": [
    "Question 1:\n",
    "\n",
    "We have two lists given below. I want you to print the first list in the original order and the second list in reverse order simultaneously.\n",
    "\n",
    "list_1 = [12, 25, 31, 20, 18]\n",
    "<br>list_2 = [11, 9, 43, 22, 55]\n",
    "\n",
    "Expected Output:\n",
    "\n",
    "12 55\n",
    "<br>25 22\n",
    "<br>31 43\n",
    "<br>20 9\n",
    "<br>18 11"
   ]
  },
  {
   "cell_type": "code",
   "execution_count": null,
   "metadata": {},
   "outputs": [],
   "source": []
  },
  {
   "cell_type": "markdown",
   "metadata": {},
   "source": [
    "Question 2:\n",
    "\n",
    "Print today's date in the format given below.\n",
    "\n",
    "Day_name  Day_number  Month_name  Year\n",
    "\n",
    "Expected Output:\n",
    "\n",
    "Today's date is:  Tuesday 13 October 2020"
   ]
  },
  {
   "cell_type": "code",
   "execution_count": null,
   "metadata": {},
   "outputs": [],
   "source": []
  },
  {
   "cell_type": "markdown",
   "metadata": {},
   "source": [
    "Question 3:\n",
    "\n",
    "We have a string which contains grocery items. Print these items in a comma-separated sequence after sorting them alphabetically.\n",
    "\n",
    "grocery_items = ' Grated Cheese, Coffee Powder, Pickles\\\n",
    " White Chocolate, Dark Chocolate, Eggs, Breads, Milk,\\\n",
    " Sugar, Salt, Cat Food, Fries'\n",
    "\n",
    "Expected Output:\n",
    "\n",
    "Breads, Cat Food, Coffee Powder, Dark Chocolate, Eggs, Fries, Grated Cheese, Milk, Pickles White Chocolate, Salt, Sugar"
   ]
  },
  {
   "cell_type": "code",
   "execution_count": null,
   "metadata": {},
   "outputs": [],
   "source": []
  },
  {
   "cell_type": "markdown",
   "metadata": {},
   "source": [
    "Question 4:\n",
    "\n",
    "Write a Python program to print the dates of yesterday, today, and tomorrow.\n",
    "\n",
    "Expected Output:\n",
    "\n",
    "Yesterday :  2020-10-12\n",
    "<br>Today :  2020-10-13\n",
    "<br>Tomorrow :  2020-10-14"
   ]
  },
  {
   "cell_type": "code",
   "execution_count": null,
   "metadata": {},
   "outputs": [],
   "source": []
  },
  {
   "cell_type": "markdown",
   "metadata": {},
   "source": [
    "Question 5:\n",
    "\n",
    "We have a set that contains roll numbers of candidates who have applied for an event. Out of the applied candidates, few have submitted their application forms, and we have registered their details in a dictionary given below. Print the roll numbers of the candidates who have submitted their application forms and also the ones who are yet to submit it.\n",
    "\n",
    "roll_numbers = {12, 7, 15, 23, 32, 30}\n",
    "<br>student_details = {12:'Judy', 30:'Shane', 23:'Aaron'}\n",
    "\n",
    "Expected Output:\n",
    "\n",
    "Completed Applications:  {12, 30, 23}\n",
    "<br>Pending Applications:  {32, 15, 7}"
   ]
  },
  {
   "cell_type": "code",
   "execution_count": null,
   "metadata": {},
   "outputs": [],
   "source": []
  },
  {
   "cell_type": "markdown",
   "metadata": {},
   "source": [
    "Question 6:\n",
    "\n",
    "We have the time in seconds given below. Convert this time into days, hours, minutes, and seconds.\n",
    "\n",
    "time = 996452\n",
    "\n",
    "Expected Output:\n",
    "\n",
    "Days : Hours : Minutes : Seconds -> 11 : 12 : 47 : 32"
   ]
  },
  {
   "cell_type": "code",
   "execution_count": null,
   "metadata": {},
   "outputs": [],
   "source": []
  },
  {
   "cell_type": "markdown",
   "metadata": {},
   "source": [
    "Question 7:\n",
    "\n",
    "We have a list of companies with their face values in the stock market. Now, I want to get the name of the company along with its face value for the company, which has the maximum and the minimum face values. I also want you all to sort this list on the basis of face values in increasing order. In this example, you have the flexibility to go ahead and google for some hints.\n",
    "\n",
    "stock_market = {'AXIS BANK' : 7,\n",
    "               <br>&emsp;&emsp;&emsp;&emsp;&emsp;&emsp;&emsp;&nbsp;'BHARTI AIRTEL' : 5,\n",
    "               <br>&emsp;&emsp;&emsp;&emsp;&emsp;&emsp;&emsp;&nbsp;'COAL INDIA' : 10,\n",
    "               <br>&emsp;&emsp;&emsp;&emsp;&emsp;&emsp;&emsp;&nbsp;'ITC' : 1,\n",
    "               <br>&emsp;&emsp;&emsp;&emsp;&emsp;&emsp;&emsp;&nbsp;'TCS' : 3,\n",
    "               <br>&emsp;&emsp;&emsp;&emsp;&emsp;&emsp;&emsp;&nbsp;'L&T' : 2,\n",
    "               <br>&emsp;&emsp;&emsp;&emsp;&emsp;&emsp;&emsp;&nbsp;'RELIANCE' : 9,\n",
    "               <br>&emsp;&emsp;&emsp;&emsp;&emsp;&emsp;&emsp;&nbsp;'KOTAK BANK' : 8,\n",
    "               <br>&emsp;&emsp;&emsp;&emsp;&emsp;&emsp;&emsp;&nbsp;'AMERICAN EXPRESS' : 11}\n",
    "\n",
    "Expected Output:\n",
    "\n",
    "(1, 'ITC')\n",
    "<br>(11, 'AMERICAN EXPRESS')\n",
    "<br>[(1, 'ITC'), (2, 'L&T'), (3, 'TCS'), (5, 'BHARTI AIRTEL'), (7, 'AXIS BANK'), (8, 'KOTAK BANK'), (9, 'RELIANCE'), (10, 'COAL INDIA'), (11, 'AMERICAN EXPRESS')]"
   ]
  },
  {
   "cell_type": "code",
   "execution_count": null,
   "metadata": {},
   "outputs": [],
   "source": []
  },
  {
   "cell_type": "markdown",
   "metadata": {},
   "source": [
    "Question 8:\n",
    "\n",
    "Write a program to print all the numbers between 100 to 300 (both included) such that each digit of the given number is an even number.\n",
    "\n",
    "Expected Output:\n",
    "\n",
    "200, 202, 204, 206, 208, 220, 222, 224, 226, 228, 240, 242, 244, 246, 248, 260, 262, 264, 266, 268, 280, 282, 284, 286, 288"
   ]
  },
  {
   "cell_type": "code",
   "execution_count": null,
   "metadata": {},
   "outputs": [],
   "source": []
  },
  {
   "cell_type": "markdown",
   "metadata": {},
   "source": [
    "Question 9:\n",
    "\n",
    "We have a list of several names along with their age. Now, there is a meeting where seats are reserved for senior citizens (age - 45 above). I want to filter out the senior citizens from this list and get a resultant list where we the names of all those who satisfy the criteria.\n",
    "\n",
    "passenger_list = {'Ross' : 35,\n",
    "                 <br>&emsp;&emsp;&emsp;&emsp;&emsp;&emsp;&emsp;&ensp;&nbsp;'Thomas': 42,\n",
    "                 <br>&emsp;&emsp;&emsp;&emsp;&emsp;&emsp;&emsp;&ensp;&nbsp;'Rick' : 55,\n",
    "                 <br>&emsp;&emsp;&emsp;&emsp;&emsp;&emsp;&emsp;&ensp;&nbsp;'Ericson' : 51,\n",
    "                 <br>&emsp;&emsp;&emsp;&emsp;&emsp;&emsp;&emsp;&ensp;&nbsp;'Josh' : 45,\n",
    "                 <br>&emsp;&emsp;&emsp;&emsp;&emsp;&emsp;&emsp;&ensp;&nbsp;'Lara' : 50,\n",
    "                 <br>&emsp;&emsp;&emsp;&emsp;&emsp;&emsp;&emsp;&ensp;&nbsp;'Emma' : 38,\n",
    "                 <br>&emsp;&emsp;&emsp;&emsp;&emsp;&emsp;&emsp;&ensp;&nbsp;'Lily' : 46,\n",
    "                 <br>&emsp;&emsp;&emsp;&emsp;&emsp;&emsp;&emsp;&ensp;&nbsp;'Ron' : 41,\n",
    "                 <br>&emsp;&emsp;&emsp;&emsp;&emsp;&emsp;&emsp;&ensp;&nbsp;'Michael' : 47,\n",
    "                 <br>&emsp;&emsp;&emsp;&emsp;&emsp;&emsp;&emsp;&ensp;&nbsp;'Joanna' : 56,\n",
    "                 <br>&emsp;&emsp;&emsp;&emsp;&emsp;&emsp;&emsp;&ensp;&nbsp;'Arthur' : 42}\n",
    "\n",
    "Expected Output:\n",
    "\n",
    "{'Ericson', 'Joanna', 'Rick', 'Michael', 'Lara', 'Lily'}"
   ]
  },
  {
   "cell_type": "code",
   "execution_count": null,
   "metadata": {},
   "outputs": [],
   "source": []
  },
  {
   "cell_type": "markdown",
   "metadata": {},
   "source": [
    "Question 10:\n",
    "\n",
    "We have a list given below, which contains several numbers. I want to slice this list based on its indexes, into 3 equal sub-lists.\n",
    "\n",
    "num_list = [31, 24, 2, 16, 19, 45, 75, 63, 79]\n",
    "\n",
    "Expected Output:\n",
    "\n",
    "Sub-List  1 [31, 24, 2]\n",
    "<br>Sub-List  2 [16, 19, 45]\n",
    "<br>Sub-List  3 [75, 63, 79]"
   ]
  },
  {
   "cell_type": "code",
   "execution_count": null,
   "metadata": {},
   "outputs": [],
   "source": []
  }
 ],
 "metadata": {
  "kernelspec": {
   "display_name": "Python 3",
   "language": "python",
   "name": "python3"
  },
  "language_info": {
   "codemirror_mode": {
    "name": "ipython",
    "version": 3
   },
   "file_extension": ".py",
   "mimetype": "text/x-python",
   "name": "python",
   "nbconvert_exporter": "python",
   "pygments_lexer": "ipython3",
   "version": "3.8.3"
  }
 },
 "nbformat": 4,
 "nbformat_minor": 4
}
