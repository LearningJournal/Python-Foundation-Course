{
 "cells": [
  {
   "cell_type": "markdown",
   "metadata": {},
   "source": [
    "Question 1:\n",
    "\n",
    "Write a Python program to display the current date and time.\n",
    "\n",
    "Expected Output:\n",
    "\n",
    "Current date and time:  2020-10-17 16:02:50.583157"
   ]
  },
  {
   "cell_type": "code",
   "execution_count": null,
   "metadata": {},
   "outputs": [],
   "source": []
  },
  {
   "cell_type": "markdown",
   "metadata": {},
   "source": [
    "Question 2:\n",
    "\n",
    "Print the month and minutes from the datetime object given below.\n",
    "\n",
    "dob_time = datetime(1995, 6, 14, 10, 37, 50, 0) \n",
    "\n",
    "Expected Output:\n",
    "\n",
    "Month: 6\n",
    "<br>Minutes: 37"
   ]
  },
  {
   "cell_type": "code",
   "execution_count": null,
   "metadata": {},
   "outputs": [],
   "source": []
  },
  {
   "cell_type": "markdown",
   "metadata": {},
   "source": [
    "Question 3:\n",
    "\n",
    "Print the date in the format given below.\n",
    "\n",
    "Day_number  Month_name(abbr.)  Year - Day_name(abbr.)\n",
    "\n",
    "given_date = datetime(2011, 10, 12)\n",
    "\n",
    "Expected Output:\n",
    "\n",
    "12 Oct 2011 - Wed"
   ]
  },
  {
   "cell_type": "code",
   "execution_count": null,
   "metadata": {},
   "outputs": [],
   "source": []
  },
  {
   "cell_type": "markdown",
   "metadata": {},
   "source": [
    "Question 4:\n",
    "\n",
    "Write a Python program to find the day of week of a given date?\n",
    "\n",
    "given_date = datetime(2008, 5, 15)\n",
    "\n",
    "Expected Output:\n",
    "\n",
    "Thursday"
   ]
  },
  {
   "cell_type": "code",
   "execution_count": null,
   "metadata": {},
   "outputs": [],
   "source": []
  },
  {
   "cell_type": "markdown",
   "metadata": {},
   "source": [
    "Question 5:\n",
    "\n",
    "Write a Python program to add 2 days and 10 hours to a given date.\n",
    "\n",
    "given_date = datetime(2016, 2, 27, 11, 30, 0)\n",
    "\n",
    "Expected Output:\n",
    "\n",
    "2016-02-29 21:30:00"
   ]
  },
  {
   "cell_type": "code",
   "execution_count": null,
   "metadata": {},
   "outputs": [],
   "source": []
  },
  {
   "cell_type": "markdown",
   "metadata": {},
   "source": [
    "Question 6:\n",
    "\n",
    "Write a Python program to calculate the number of days between two given dates.\n",
    "\n",
    "date_1 = datetime(2020, 7, 21).date()\n",
    "<br>date_2 = datetime(2020, 3, 10).date()\n",
    "\n",
    "Expected Output:\n",
    "\n",
    "133 days, 0:00:00"
   ]
  },
  {
   "cell_type": "code",
   "execution_count": null,
   "metadata": {},
   "outputs": [],
   "source": []
  },
  {
   "cell_type": "markdown",
   "metadata": {},
   "source": [
    "Question 7:\n",
    "\n",
    "Write a Python program to convert a string to datetime.\n",
    "\n",
    "myString = Oct 12 2002 12:45 PM\n",
    "\n",
    "Expected Output:\n",
    "\n",
    "2002-10-12 12:45:00"
   ]
  },
  {
   "cell_type": "code",
   "execution_count": null,
   "metadata": {},
   "outputs": [],
   "source": []
  },
  {
   "cell_type": "markdown",
   "metadata": {},
   "source": [
    "Question 8:\n",
    "\n",
    "Print the date, day name and time in the format given below.\n",
    "\n",
    "Day_number-Month_number-Year - Day_name - Hours:Minutes:Seconds\n",
    "\n",
    "dob_time = datetime(1995, 6, 14, 10, 37, 50, 0) \n",
    "\n",
    "Expected Output:\n",
    "\n",
    "14-06-1995 - Wed - 10:37:50"
   ]
  },
  {
   "cell_type": "code",
   "execution_count": null,
   "metadata": {},
   "outputs": [],
   "source": []
  },
  {
   "cell_type": "markdown",
   "metadata": {},
   "source": [
    "Question 9:\n",
    "\n",
    "Write a Python program to print yesterdays's date.\n",
    "\n",
    "Expected Output:\n",
    "\n",
    "Yesterday :  2020-10-16"
   ]
  },
  {
   "cell_type": "code",
   "execution_count": null,
   "metadata": {},
   "outputs": [],
   "source": []
  },
  {
   "cell_type": "markdown",
   "metadata": {},
   "source": [
    "Question 10:\n",
    "\n",
    "Write a Python program to print the next 5 days from the date given below.\n",
    "\n",
    "given_date = datetime(2020, 10, 17)\n",
    "\n",
    "Expected Output:\n",
    "\n",
    "2020-10-18 00:00:00\n",
    "<br>2020-10-19 00:00:00\n",
    "<br>2020-10-20 00:00:00\n",
    "<br>2020-10-21 00:00:00\n",
    "<br>2020-10-22 00:00:00"
   ]
  },
  {
   "cell_type": "code",
   "execution_count": null,
   "metadata": {},
   "outputs": [],
   "source": []
  }
 ],
 "metadata": {
  "kernelspec": {
   "display_name": "Python 3",
   "language": "python",
   "name": "python3"
  },
  "language_info": {
   "codemirror_mode": {
    "name": "ipython",
    "version": 3
   },
   "file_extension": ".py",
   "mimetype": "text/x-python",
   "name": "python",
   "nbconvert_exporter": "python",
   "pygments_lexer": "ipython3",
   "version": "3.8.3"
  }
 },
 "nbformat": 4,
 "nbformat_minor": 4
}
